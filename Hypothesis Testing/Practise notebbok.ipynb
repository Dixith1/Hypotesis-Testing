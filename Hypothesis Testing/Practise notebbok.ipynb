{
 "cells": [
  {
   "cell_type": "code",
   "execution_count": null,
   "id": "6cab577c",
   "metadata": {},
   "outputs": [],
   "source": [
    "#Addition\n",
    "2+1"
   ]
  },
  {
   "cell_type": "code",
   "execution_count": null,
   "id": "7169f151",
   "metadata": {},
   "outputs": [],
   "source": [
    "# Subtraction\n",
    "2-1"
   ]
  },
  {
   "cell_type": "code",
   "execution_count": null,
   "id": "dd23d03d",
   "metadata": {},
   "outputs": [],
   "source": [
    "# Multiplication\n",
    "2*3"
   ]
  },
  {
   "cell_type": "code",
   "execution_count": null,
   "id": "09a68c1b",
   "metadata": {},
   "outputs": [],
   "source": [
    "# Dividion\n",
    "2/2"
   ]
  },
  {
   "cell_type": "code",
   "execution_count": null,
   "id": "f19e9de3",
   "metadata": {},
   "outputs": [],
   "source": [
    "# Floor division\n",
    "7//4"
   ]
  },
  {
   "cell_type": "code",
   "execution_count": null,
   "id": "67015693",
   "metadata": {},
   "outputs": [],
   "source": [
    "# Powers means 2*2*2\n",
    "2**3"
   ]
  },
  {
   "cell_type": "code",
   "execution_count": null,
   "id": "5a2bd76b",
   "metadata": {},
   "outputs": [],
   "source": [
    "# Can also do roots this way 4 under root of 2 is\n",
    "4**0.5"
   ]
  },
  {
   "cell_type": "code",
   "execution_count": null,
   "id": "14ef53ce",
   "metadata": {},
   "outputs": [],
   "source": [
    "# Order of Operations followed in Python(BODMAS RULE)\n",
    "2 + 10 * 10 + 3"
   ]
  },
  {
   "cell_type": "code",
   "execution_count": null,
   "id": "8ff22f70",
   "metadata": {},
   "outputs": [],
   "source": [
    "# Can use parentheses to specify orders\n",
    "(2+10)*(10+3)"
   ]
  },
  {
   "cell_type": "code",
   "execution_count": null,
   "id": "408b3057",
   "metadata": {},
   "outputs": [],
   "source": [
    "#Variables calculations"
   ]
  },
  {
   "cell_type": "code",
   "execution_count": null,
   "id": "ee9330bb",
   "metadata": {},
   "outputs": [],
   "source": [
    "a=5"
   ]
  },
  {
   "cell_type": "code",
   "execution_count": null,
   "id": "7385527d",
   "metadata": {},
   "outputs": [],
   "source": [
    "a+a"
   ]
  },
  {
   "cell_type": "code",
   "execution_count": null,
   "id": "613bb1f7",
   "metadata": {},
   "outputs": [],
   "source": [
    "# Re-assignment\n",
    "a=10"
   ]
  },
  {
   "cell_type": "code",
   "execution_count": null,
   "id": "473478db",
   "metadata": {},
   "outputs": [],
   "source": [
    "a+a"
   ]
  },
  {
   "cell_type": "code",
   "execution_count": null,
   "id": "afde30dd",
   "metadata": {},
   "outputs": [],
   "source": [
    "# Re-assignment\n",
    "a=20"
   ]
  },
  {
   "cell_type": "code",
   "execution_count": null,
   "id": "62d5e6ae",
   "metadata": {},
   "outputs": [],
   "source": [
    "type(a)"
   ]
  },
  {
   "cell_type": "code",
   "execution_count": null,
   "id": "5edacee4",
   "metadata": {},
   "outputs": [],
   "source": [
    "a=(1,2)"
   ]
  },
  {
   "cell_type": "code",
   "execution_count": null,
   "id": "01bdda67",
   "metadata": {},
   "outputs": [],
   "source": [
    "type(a)"
   ]
  },
  {
   "cell_type": "code",
   "execution_count": null,
   "id": "cb92ef0f",
   "metadata": {},
   "outputs": [],
   "source": [
    "# Use object names to keep better track of what's going on in your code!\n",
    "my_income = 25000\n",
    "\n",
    "tax_rate = 0.12\n",
    "\n",
    "my_taxes = my_income*tax_rate"
   ]
  },
  {
   "cell_type": "code",
   "execution_count": null,
   "id": "d6f29a52",
   "metadata": {},
   "outputs": [],
   "source": [
    "# Show my taxes!\n",
    "my_taxes"
   ]
  },
  {
   "cell_type": "code",
   "execution_count": null,
   "id": "f5007c94",
   "metadata": {},
   "outputs": [],
   "source": [
    "my_dogs=2"
   ]
  },
  {
   "cell_type": "code",
   "execution_count": null,
   "id": "282e89bf",
   "metadata": {},
   "outputs": [],
   "source": [
    "my_dogs"
   ]
  },
  {
   "cell_type": "code",
   "execution_count": null,
   "id": "214666e3",
   "metadata": {},
   "outputs": [],
   "source": [
    "my_dogs=['pluto','scooby']"
   ]
  },
  {
   "cell_type": "code",
   "execution_count": null,
   "id": "f9c164b7",
   "metadata": {},
   "outputs": [],
   "source": [
    "my_dogs"
   ]
  },
  {
   "cell_type": "code",
   "execution_count": null,
   "id": "4052a87b",
   "metadata": {},
   "outputs": [],
   "source": [
    "a= 'Dixith'"
   ]
  },
  {
   "cell_type": "code",
   "execution_count": null,
   "id": "4432d12c",
   "metadata": {},
   "outputs": [],
   "source": [
    "type(a)"
   ]
  },
  {
   "cell_type": "code",
   "execution_count": null,
   "id": "b2d4c916",
   "metadata": {},
   "outputs": [],
   "source": [
    "a=(1,2)"
   ]
  },
  {
   "cell_type": "code",
   "execution_count": null,
   "id": "63f840ee",
   "metadata": {},
   "outputs": [],
   "source": [
    "type(a)"
   ]
  },
  {
   "cell_type": "code",
   "execution_count": null,
   "id": "e11ba63d",
   "metadata": {},
   "outputs": [],
   "source": [
    "a=1"
   ]
  },
  {
   "cell_type": "code",
   "execution_count": null,
   "id": "f5858f25",
   "metadata": {},
   "outputs": [],
   "source": [
    "type(a)"
   ]
  },
  {
   "cell_type": "code",
   "execution_count": null,
   "id": "59641a3c",
   "metadata": {},
   "outputs": [],
   "source": [
    "# single world\n",
    "'hello'"
   ]
  },
  {
   "cell_type": "code",
   "execution_count": null,
   "id": "a9041f93",
   "metadata": {},
   "outputs": [],
   "source": [
    "# Entire phrase\n",
    "'This is also a string'"
   ]
  },
  {
   "cell_type": "code",
   "execution_count": null,
   "id": "ec5606d9",
   "metadata": {},
   "outputs": [],
   "source": [
    "\"we can also use double quotes\""
   ]
  },
  {
   "cell_type": "code",
   "execution_count": null,
   "id": "e9816167",
   "metadata": {},
   "outputs": [],
   "source": [
    "# Be careful with quotes!\n",
    "' I'm using single quotes, but this will create an error'"
   ]
  },
  {
   "cell_type": "code",
   "execution_count": null,
   "id": "dd061677",
   "metadata": {},
   "outputs": [],
   "source": [
    "\"Now I'm ready to use the single quotes inside a string!\""
   ]
  },
  {
   "cell_type": "code",
   "execution_count": null,
   "id": "3c1d1759",
   "metadata": {},
   "outputs": [],
   "source": [
    "# We can simply declare a string\n",
    "'Hello World'"
   ]
  },
  {
   "cell_type": "code",
   "execution_count": null,
   "id": "bb60ef91",
   "metadata": {},
   "outputs": [],
   "source": [
    "# Note that we can't output multiple strings this way\n",
    "'Hello World 1'\n",
    "'Hello World 2'"
   ]
  },
  {
   "cell_type": "code",
   "execution_count": null,
   "id": "8e7cda4f",
   "metadata": {},
   "outputs": [],
   "source": [
    "print('Akula')\n",
    "print('Dixith')\n",
    "print('kumar')"
   ]
  },
  {
   "cell_type": "code",
   "execution_count": null,
   "id": "99272141",
   "metadata": {},
   "outputs": [],
   "source": [
    "print('Hello World 1')\n",
    "print('Hello World 2')\n",
    "print('Use \\t to print a new line')\n",
    "print('\\n')\n",
    "print('See what I mean?')"
   ]
  },
  {
   "cell_type": "code",
   "execution_count": null,
   "id": "2cb4f144",
   "metadata": {},
   "outputs": [],
   "source": [
    "len('Hello world')"
   ]
  },
  {
   "cell_type": "code",
   "execution_count": null,
   "id": "2622974d",
   "metadata": {},
   "outputs": [],
   "source": [
    "# Assign A as a string\n",
    "A= 'Dixith'"
   ]
  },
  {
   "cell_type": "code",
   "execution_count": null,
   "id": "7e21b882",
   "metadata": {},
   "outputs": [],
   "source": [
    "# Check\n",
    "A"
   ]
  },
  {
   "cell_type": "code",
   "execution_count": null,
   "id": "05eca396",
   "metadata": {},
   "outputs": [],
   "source": [
    "# Print the object\n",
    "print(A)"
   ]
  },
  {
   "cell_type": "code",
   "execution_count": null,
   "id": "837235fb",
   "metadata": {},
   "outputs": [],
   "source": [
    "# Show first element (in this case a letter)\n",
    "A[0]"
   ]
  },
  {
   "cell_type": "code",
   "execution_count": null,
   "id": "4567b999",
   "metadata": {},
   "outputs": [],
   "source": [
    "A[1]"
   ]
  },
  {
   "cell_type": "code",
   "execution_count": null,
   "id": "88fb8ecb",
   "metadata": {},
   "outputs": [],
   "source": [
    "A[2]"
   ]
  },
  {
   "cell_type": "code",
   "execution_count": null,
   "id": "14bf6d35",
   "metadata": {},
   "outputs": [],
   "source": [
    "A[3]"
   ]
  },
  {
   "cell_type": "code",
   "execution_count": null,
   "id": "adae998d",
   "metadata": {},
   "outputs": [],
   "source": [
    "A[4]"
   ]
  },
  {
   "cell_type": "code",
   "execution_count": null,
   "id": "9a23c2da",
   "metadata": {},
   "outputs": [],
   "source": [
    "A[5]"
   ]
  },
  {
   "cell_type": "code",
   "execution_count": null,
   "id": "0c6ebd2d",
   "metadata": {},
   "outputs": [],
   "source": [
    "# s[startpoint:endpoint:steps]\n",
    "# startpoint = 0\n",
    "# endpoint = len(s)\n",
    "# steps =1"
   ]
  },
  {
   "cell_type": "code",
   "execution_count": null,
   "id": "57af96db",
   "metadata": {},
   "outputs": [],
   "source": [
    "A"
   ]
  },
  {
   "cell_type": "code",
   "execution_count": null,
   "id": "4a49ed1b",
   "metadata": {},
   "outputs": [],
   "source": [
    "A[0:6:1]"
   ]
  },
  {
   "cell_type": "code",
   "execution_count": null,
   "id": "827c9728",
   "metadata": {},
   "outputs": [],
   "source": [
    "# Grab everything past the first term all the way to the length of s which is len(s)\n",
    "A[1:]"
   ]
  },
  {
   "cell_type": "code",
   "execution_count": null,
   "id": "2754fe16",
   "metadata": {},
   "outputs": [],
   "source": [
    "# Note that there is no change to the original s\n",
    "A"
   ]
  },
  {
   "cell_type": "code",
   "execution_count": null,
   "id": "76f6fb4d",
   "metadata": {},
   "outputs": [],
   "source": [
    "# Grab everything UP TO the 3rd index\n",
    "A[:3]"
   ]
  },
  {
   "cell_type": "code",
   "execution_count": null,
   "id": "4e5c3668",
   "metadata": {},
   "outputs": [],
   "source": [
    "#Everything\n",
    "A[:]"
   ]
  },
  {
   "cell_type": "code",
   "execution_count": null,
   "id": "1d9bf336",
   "metadata": {},
   "outputs": [],
   "source": [
    "# Last letter (one index behind 0 so it loops back around)\n",
    "A[-1]"
   ]
  },
  {
   "cell_type": "code",
   "execution_count": null,
   "id": "3efaa196",
   "metadata": {},
   "outputs": [],
   "source": [
    "# Grab everything but the last letter\n",
    "A[:-1]"
   ]
  },
  {
   "cell_type": "code",
   "execution_count": null,
   "id": "c035b3c9",
   "metadata": {},
   "outputs": [],
   "source": [
    "# Grab everything, but go in steps size of 1\n",
    "A[::1]"
   ]
  },
  {
   "cell_type": "code",
   "execution_count": null,
   "id": "0f7400be",
   "metadata": {},
   "outputs": [],
   "source": [
    "# Grab everything, but go in step sizes of 2\n",
    "A[::2]"
   ]
  },
  {
   "cell_type": "code",
   "execution_count": null,
   "id": "3c1aadd0",
   "metadata": {},
   "outputs": [],
   "source": [
    "num_string='0123456789'"
   ]
  },
  {
   "cell_type": "code",
   "execution_count": null,
   "id": "57396045",
   "metadata": {},
   "outputs": [],
   "source": [
    "num_string[::2]"
   ]
  },
  {
   "cell_type": "code",
   "execution_count": null,
   "id": "14e3b353",
   "metadata": {},
   "outputs": [],
   "source": [
    "# We can use this to print a string backwards\n",
    "A[::-1]"
   ]
  },
  {
   "cell_type": "code",
   "execution_count": null,
   "id": "1ec1fd33",
   "metadata": {},
   "outputs": [],
   "source": [
    "# anagram --> words which can be read same way left to right and right to left.\n",
    "# eye, madam, mom "
   ]
  },
  {
   "cell_type": "code",
   "execution_count": null,
   "id": "30b3bb91",
   "metadata": {},
   "outputs": [],
   "source": [
    "var = \"madam\""
   ]
  },
  {
   "cell_type": "code",
   "execution_count": null,
   "id": "24b7caba",
   "metadata": {},
   "outputs": [],
   "source": [
    "var[::-1]"
   ]
  },
  {
   "cell_type": "code",
   "execution_count": null,
   "id": "aa63e691",
   "metadata": {},
   "outputs": [],
   "source": [
    "var = \"mom\""
   ]
  },
  {
   "cell_type": "code",
   "execution_count": null,
   "id": "fa4637bc",
   "metadata": {},
   "outputs": [],
   "source": [
    "var[::-1]"
   ]
  },
  {
   "cell_type": "code",
   "execution_count": null,
   "id": "413c1580",
   "metadata": {},
   "outputs": [],
   "source": [
    "var = \"eye\""
   ]
  },
  {
   "cell_type": "code",
   "execution_count": null,
   "id": "eb0d1822",
   "metadata": {},
   "outputs": [],
   "source": [
    "var[::-1]"
   ]
  },
  {
   "cell_type": "code",
   "execution_count": null,
   "id": "54eb8284",
   "metadata": {},
   "outputs": [],
   "source": [
    "var_name=\"I love pizza and icecream.\"\n",
    "# var_name=\"mac donld's\""
   ]
  },
  {
   "cell_type": "code",
   "execution_count": null,
   "id": "c093a696",
   "metadata": {},
   "outputs": [],
   "source": [
    "# donld\n",
    "var_name[17:-1]"
   ]
  },
  {
   "cell_type": "code",
   "execution_count": null,
   "id": "8be39a00",
   "metadata": {},
   "outputs": [],
   "source": [
    "A='DIXITH'"
   ]
  },
  {
   "cell_type": "code",
   "execution_count": null,
   "id": "43fb1390",
   "metadata": {},
   "outputs": [],
   "source": [
    "A"
   ]
  },
  {
   "cell_type": "code",
   "execution_count": null,
   "id": "46735119",
   "metadata": {},
   "outputs": [],
   "source": [
    "# KUMAR AKULA!\n",
    "A+' KUMAR AKULA!'"
   ]
  },
  {
   "cell_type": "code",
   "execution_count": null,
   "id": "1ae3935c",
   "metadata": {},
   "outputs": [],
   "source": [
    "# We can reassign A completely though!\n",
    "A=A+' KUMAR AKULA!'"
   ]
  },
  {
   "cell_type": "code",
   "execution_count": null,
   "id": "51e91b24",
   "metadata": {},
   "outputs": [],
   "source": [
    "print(A)"
   ]
  },
  {
   "cell_type": "code",
   "execution_count": null,
   "id": "9ff0ee24",
   "metadata": {},
   "outputs": [],
   "source": [
    "A"
   ]
  },
  {
   "cell_type": "code",
   "execution_count": null,
   "id": "c273f711",
   "metadata": {},
   "outputs": [],
   "source": [
    "letter='a'"
   ]
  },
  {
   "cell_type": "code",
   "execution_count": null,
   "id": "a7af2c0e",
   "metadata": {},
   "outputs": [],
   "source": [
    "letter*10"
   ]
  },
  {
   "cell_type": "code",
   "execution_count": null,
   "id": "d43494f0",
   "metadata": {},
   "outputs": [],
   "source": [
    "A"
   ]
  },
  {
   "cell_type": "code",
   "execution_count": null,
   "id": "c8e85518",
   "metadata": {},
   "outputs": [],
   "source": [
    "s = \"Hello;Dixith;Vaishnavi;Ramya\""
   ]
  },
  {
   "cell_type": "code",
   "execution_count": null,
   "id": "81925112",
   "metadata": {},
   "outputs": [],
   "source": [
    "# Upper Case a string\n",
    "s.upper()"
   ]
  },
  {
   "cell_type": "code",
   "execution_count": null,
   "id": "b70b7a0e",
   "metadata": {},
   "outputs": [],
   "source": [
    "# Lower case\n",
    "s.lower()"
   ]
  },
  {
   "cell_type": "code",
   "execution_count": null,
   "id": "21f8f6ce",
   "metadata": {},
   "outputs": [],
   "source": [
    "# Split a string by blank space (this is the default)\n",
    "s.split()"
   ]
  },
  {
   "cell_type": "code",
   "execution_count": null,
   "id": "b8037ded",
   "metadata": {},
   "outputs": [],
   "source": [
    "# Split by a specific element (doesn't include the element that was split on)\n",
    "s.split(';')"
   ]
  },
  {
   "cell_type": "code",
   "execution_count": null,
   "id": "9af018b1",
   "metadata": {},
   "outputs": [],
   "source": [
    "print(\"Dixith Kumar AKULA..!\")"
   ]
  },
  {
   "cell_type": "code",
   "execution_count": null,
   "id": "23589b67",
   "metadata": {},
   "outputs": [],
   "source": [
    "\"Hello World {student_name}\""
   ]
  },
  {
   "cell_type": "code",
   "execution_count": null,
   "id": "f1437e6a",
   "metadata": {},
   "outputs": [],
   "source": [
    "'Insert another string with curly brackets: {}'.format('The inserted string')"
   ]
  },
  {
   "cell_type": "code",
   "execution_count": null,
   "id": "63d02a53",
   "metadata": {},
   "outputs": [],
   "source": [
    "print(\"Dixith {0},{1},{2} !!\".format(\"Ambica\",\"Ramya\",\"Vaishnavi\"))"
   ]
  },
  {
   "cell_type": "code",
   "execution_count": null,
   "id": "8187ecaa",
   "metadata": {},
   "outputs": [],
   "source": [
    "print(\"Dixith {2},{1},{0} !!\".format(\"Ambica\",\"Ramya\",\"Vaishnavi\"))"
   ]
  },
  {
   "cell_type": "code",
   "execution_count": null,
   "id": "8195c3e2",
   "metadata": {},
   "outputs": [],
   "source": [
    "print(\"Ramya {1},{0},{2} !!\".format(\"Ambica\",\"Dixith\",\"Vaishnavi\"))"
   ]
  },
  {
   "cell_type": "code",
   "execution_count": null,
   "id": "5d31fb49",
   "metadata": {},
   "outputs": [],
   "source": [
    "var = 'The inserted string'\n",
    "f'Insert another string with curly brackets: {var}'"
   ]
  },
  {
   "cell_type": "code",
   "execution_count": null,
   "id": "664722e6",
   "metadata": {},
   "outputs": [],
   "source": [
    "student1=\"Prakash\"\n",
    "student2=\"Gaurav\"\n",
    "student3=\"Ami\"\n",
    "print(f\"Hello world {student1},{student2},{student3}!!\")"
   ]
  },
  {
   "cell_type": "code",
   "execution_count": null,
   "id": "828c3bed",
   "metadata": {},
   "outputs": [],
   "source": [
    "student1 = \"Prakash\"\n",
    "student2 = \"Gaurav\"\n",
    "student3 = \"Ami\"\n",
    "print(f\"Hello World {student3},{student2},{student1} !!\")"
   ]
  },
  {
   "cell_type": "code",
   "execution_count": null,
   "id": "71288ce9",
   "metadata": {},
   "outputs": [],
   "source": [
    "# Assign a list to an variable named my_list\n",
    "my_list = [1,2,3]"
   ]
  },
  {
   "cell_type": "code",
   "execution_count": null,
   "id": "b01dffec",
   "metadata": {},
   "outputs": [],
   "source": [
    "my_list = ['A string',23,100.232,'o']"
   ]
  },
  {
   "cell_type": "code",
   "execution_count": null,
   "id": "90af0779",
   "metadata": {},
   "outputs": [],
   "source": [
    "len(my_list)"
   ]
  },
  {
   "cell_type": "code",
   "execution_count": null,
   "id": "03649541",
   "metadata": {},
   "outputs": [],
   "source": [
    "my_list = ['one','two','three',4,5]"
   ]
  },
  {
   "cell_type": "code",
   "execution_count": null,
   "id": "e87cf1d0",
   "metadata": {},
   "outputs": [],
   "source": [
    "# Grab element at index 0\n",
    "my_list[0]"
   ]
  },
  {
   "cell_type": "code",
   "execution_count": null,
   "id": "18ba284c",
   "metadata": {},
   "outputs": [],
   "source": [
    "# Grab index 1 and everything past it\n",
    "my_list[1:]"
   ]
  },
  {
   "cell_type": "code",
   "execution_count": null,
   "id": "d485f298",
   "metadata": {},
   "outputs": [],
   "source": [
    "# Grab everything UP TO index 3\n",
    "my_list[:3]"
   ]
  },
  {
   "cell_type": "code",
   "execution_count": null,
   "id": "13e5b28e",
   "metadata": {},
   "outputs": [],
   "source": [
    "my_list + ['new item']"
   ]
  },
  {
   "cell_type": "code",
   "execution_count": null,
   "id": "d90413f5",
   "metadata": {},
   "outputs": [],
   "source": [
    "my_list"
   ]
  },
  {
   "cell_type": "code",
   "execution_count": null,
   "id": "140fd7fb",
   "metadata": {},
   "outputs": [],
   "source": [
    "my_list"
   ]
  },
  {
   "cell_type": "code",
   "execution_count": null,
   "id": "7c61e94c",
   "metadata": {},
   "outputs": [],
   "source": [
    "# Re-assign\n",
    "my_list=my_list+['add new item permanently']"
   ]
  },
  {
   "cell_type": "code",
   "execution_count": null,
   "id": "dd01f988",
   "metadata": {},
   "outputs": [],
   "source": [
    "my_list"
   ]
  },
  {
   "cell_type": "code",
   "execution_count": null,
   "id": "0c844cc1",
   "metadata": {},
   "outputs": [],
   "source": [
    "# Make the list double\n",
    "my_list * 2"
   ]
  },
  {
   "cell_type": "code",
   "execution_count": null,
   "id": "69bd9a5c",
   "metadata": {},
   "outputs": [],
   "source": [
    "# Again doubling not permanent\n",
    "my_list"
   ]
  },
  {
   "cell_type": "code",
   "execution_count": null,
   "id": "0657416e",
   "metadata": {},
   "outputs": [],
   "source": [
    "# Create a new list\n",
    "list1 = [1,2,3]"
   ]
  },
  {
   "cell_type": "code",
   "execution_count": null,
   "id": "cfef6105",
   "metadata": {},
   "outputs": [],
   "source": [
    "# Append\n",
    "list1.append('append me!')"
   ]
  },
  {
   "cell_type": "code",
   "execution_count": null,
   "id": "dba58ec0",
   "metadata": {},
   "outputs": [],
   "source": [
    "# Show\n",
    "list1"
   ]
  },
  {
   "cell_type": "code",
   "execution_count": null,
   "id": "078e36f3",
   "metadata": {},
   "outputs": [],
   "source": [
    "# append another\n",
    "list1.append('append another')"
   ]
  },
  {
   "cell_type": "code",
   "execution_count": null,
   "id": "8bfda780",
   "metadata": {},
   "outputs": [],
   "source": [
    "list1"
   ]
  },
  {
   "cell_type": "code",
   "execution_count": null,
   "id": "07fe4ee1",
   "metadata": {},
   "outputs": [],
   "source": [
    "list1=[1,2,3]"
   ]
  },
  {
   "cell_type": "code",
   "execution_count": null,
   "id": "312c25d3",
   "metadata": {},
   "outputs": [],
   "source": [
    "list1.append([4,5,6])"
   ]
  },
  {
   "cell_type": "code",
   "execution_count": null,
   "id": "251270d7",
   "metadata": {},
   "outputs": [],
   "source": [
    "list1"
   ]
  },
  {
   "cell_type": "code",
   "execution_count": null,
   "id": "78d43082",
   "metadata": {},
   "outputs": [],
   "source": [
    "list1.extend([4,5,6,])"
   ]
  },
  {
   "cell_type": "code",
   "execution_count": null,
   "id": "f9fa7938",
   "metadata": {},
   "outputs": [],
   "source": [
    "list1"
   ]
  },
  {
   "cell_type": "code",
   "execution_count": null,
   "id": "a09b5f5a",
   "metadata": {},
   "outputs": [],
   "source": [
    "# with append if you're adding multiple values it will be added as another list.\n",
    "# with extend you can increase or add multiple individual objects."
   ]
  },
  {
   "cell_type": "code",
   "execution_count": null,
   "id": "6dd6540e",
   "metadata": {},
   "outputs": [],
   "source": [
    "list1=[1,2,3,4,5,6]"
   ]
  },
  {
   "cell_type": "code",
   "execution_count": null,
   "id": "f71fa42f",
   "metadata": {},
   "outputs": [],
   "source": [
    "list1.pop(0)"
   ]
  },
  {
   "cell_type": "code",
   "execution_count": null,
   "id": "1b7a5670",
   "metadata": {},
   "outputs": [],
   "source": [
    "list1"
   ]
  },
  {
   "cell_type": "code",
   "execution_count": null,
   "id": "73505a0f",
   "metadata": {},
   "outputs": [],
   "source": [
    "list1.pop()"
   ]
  },
  {
   "cell_type": "code",
   "execution_count": null,
   "id": "1feab963",
   "metadata": {},
   "outputs": [],
   "source": [
    "# show\n",
    "list1"
   ]
  },
  {
   "cell_type": "code",
   "execution_count": null,
   "id": "ce5ea3cb",
   "metadata": {},
   "outputs": [],
   "source": [
    "# Assign the popped element, remember default popped index is -1\n",
    "popped_item = list1.pop()"
   ]
  },
  {
   "cell_type": "code",
   "execution_count": null,
   "id": "505944e9",
   "metadata": {},
   "outputs": [],
   "source": [
    "popped_item"
   ]
  },
  {
   "cell_type": "code",
   "execution_count": null,
   "id": "3d52adc3",
   "metadata": {},
   "outputs": [],
   "source": [
    "# show remaining list1\n",
    "list1"
   ]
  },
  {
   "cell_type": "code",
   "execution_count": null,
   "id": "db718f46",
   "metadata": {},
   "outputs": [],
   "source": [
    "list1=[1,2,3,34,4,5,6,]"
   ]
  },
  {
   "cell_type": "code",
   "execution_count": null,
   "id": "a8acf89d",
   "metadata": {},
   "outputs": [],
   "source": [
    "list1.remove(34)"
   ]
  },
  {
   "cell_type": "code",
   "execution_count": null,
   "id": "5f93559b",
   "metadata": {},
   "outputs": [],
   "source": [
    "list1"
   ]
  },
  {
   "cell_type": "code",
   "execution_count": null,
   "id": "2623ac04",
   "metadata": {},
   "outputs": [],
   "source": [
    "new_list=['a','e','b','x','c']"
   ]
  },
  {
   "cell_type": "code",
   "execution_count": null,
   "id": "652061fd",
   "metadata": {},
   "outputs": [],
   "source": [
    "#Show\n",
    "new_list"
   ]
  },
  {
   "cell_type": "code",
   "execution_count": null,
   "id": "49ef3c21",
   "metadata": {},
   "outputs": [],
   "source": [
    "# Use reverse to reverse order (this is permanent!)\n",
    "new_list.reverse()"
   ]
  },
  {
   "cell_type": "code",
   "execution_count": null,
   "id": "97a57bf9",
   "metadata": {},
   "outputs": [],
   "source": [
    "new_list"
   ]
  },
  {
   "cell_type": "code",
   "execution_count": null,
   "id": "5db7717f",
   "metadata": {},
   "outputs": [],
   "source": [
    "# Use sort to sort the list (in this case alphabetical order, but for numbers it will go ascending)\n",
    "new_list.sort()"
   ]
  },
  {
   "cell_type": "code",
   "execution_count": null,
   "id": "9be76012",
   "metadata": {},
   "outputs": [],
   "source": [
    "new_list"
   ]
  },
  {
   "cell_type": "code",
   "execution_count": null,
   "id": "e4c6f593",
   "metadata": {},
   "outputs": [],
   "source": [
    "# Let's make three lists\n",
    "lst_1=[1,2,3]\n",
    "lst_2=[4,5,6]\n",
    "lst_3=[7,8,9]\n",
    "\n",
    "# Make a list of lists to form a matrix\n",
    "matrix = [lst_1,lst_2,lst_3]"
   ]
  },
  {
   "cell_type": "code",
   "execution_count": null,
   "id": "d341a15f",
   "metadata": {},
   "outputs": [],
   "source": [
    "# Show\n",
    "matrix"
   ]
  },
  {
   "cell_type": "code",
   "execution_count": null,
   "id": "0ad1f9a8",
   "metadata": {},
   "outputs": [],
   "source": [
    "matrix[2]"
   ]
  },
  {
   "cell_type": "code",
   "execution_count": null,
   "id": "8f7ac741",
   "metadata": {},
   "outputs": [],
   "source": [
    "matrix[0][2]"
   ]
  },
  {
   "cell_type": "code",
   "execution_count": null,
   "id": "a2e1d97d",
   "metadata": {},
   "outputs": [],
   "source": [
    "matrix[1][1]"
   ]
  },
  {
   "cell_type": "code",
   "execution_count": null,
   "id": "70532af4",
   "metadata": {},
   "outputs": [],
   "source": [
    "matrix[0][0]"
   ]
  },
  {
   "cell_type": "code",
   "execution_count": null,
   "id": "503a5a08",
   "metadata": {},
   "outputs": [],
   "source": [
    "matrix[1][0]"
   ]
  },
  {
   "cell_type": "code",
   "execution_count": null,
   "id": "53395fdd",
   "metadata": {},
   "outputs": [],
   "source": [
    "matrix[2][0]"
   ]
  },
  {
   "cell_type": "code",
   "execution_count": null,
   "id": "dc0f202f",
   "metadata": {},
   "outputs": [],
   "source": [
    "[matrix[0][0],matrix[1][0],matrix[2][0]]"
   ]
  },
  {
   "cell_type": "code",
   "execution_count": null,
   "id": "a10e4a19",
   "metadata": {},
   "outputs": [],
   "source": [
    "list1=[1,2,4,5,6]\n",
    "# missed out number 3\n",
    "list1"
   ]
  },
  {
   "cell_type": "code",
   "execution_count": null,
   "id": "eebb84d8",
   "metadata": {},
   "outputs": [],
   "source": [
    "list1.insert(2,3)\n",
    "# insert(postion,vlaue)"
   ]
  },
  {
   "cell_type": "code",
   "execution_count": null,
   "id": "0630b3a5",
   "metadata": {},
   "outputs": [],
   "source": [
    "list1=[1,2,3,4,5,6]"
   ]
  },
  {
   "cell_type": "code",
   "execution_count": null,
   "id": "a2cf2e54",
   "metadata": {},
   "outputs": [],
   "source": [
    "dir(list1)"
   ]
  },
  {
   "cell_type": "code",
   "execution_count": null,
   "id": "bd60c320",
   "metadata": {},
   "outputs": [],
   "source": [
    "list1=[1,2,34,34,5,5,4,6]"
   ]
  },
  {
   "cell_type": "code",
   "execution_count": null,
   "id": "a8a70e26",
   "metadata": {},
   "outputs": [],
   "source": [
    "list1.count(34)"
   ]
  },
  {
   "cell_type": "code",
   "execution_count": null,
   "id": "885e0344",
   "metadata": {},
   "outputs": [],
   "source": [
    "# Make a dictionary with {} and : to signify a key and a value\n",
    "my_dict={\n",
    "    \n",
    "           'key1':'value1','key2':'value2'\n",
    "        }"
   ]
  },
  {
   "cell_type": "code",
   "execution_count": null,
   "id": "56436ef8",
   "metadata": {},
   "outputs": [],
   "source": [
    "# Call values by their key\n",
    "my_dict['key2']"
   ]
  },
  {
   "cell_type": "code",
   "execution_count": null,
   "id": "7407dc02",
   "metadata": {},
   "outputs": [],
   "source": [
    "type(my_dict)"
   ]
  },
  {
   "cell_type": "code",
   "execution_count": null,
   "id": "fb36bc61",
   "metadata": {},
   "outputs": [],
   "source": [
    "my_dict['key1']"
   ]
  },
  {
   "cell_type": "code",
   "execution_count": null,
   "id": "ff2c2cce",
   "metadata": {},
   "outputs": [],
   "source": [
    "my_dict = {'key1':123,'key2':[12,23,33],'key3':['item0','item1','item2']}"
   ]
  },
  {
   "cell_type": "code",
   "execution_count": null,
   "id": "a9ce112a",
   "metadata": {},
   "outputs": [],
   "source": [
    "# Let's call items from the dictionary\n",
    "my_dict['key3']"
   ]
  },
  {
   "cell_type": "code",
   "execution_count": null,
   "id": "f0c6a6df",
   "metadata": {},
   "outputs": [],
   "source": [
    "# Can call an index on that value\n",
    "my_dict['key3'][0]"
   ]
  },
  {
   "cell_type": "code",
   "execution_count": null,
   "id": "f10e638e",
   "metadata": {},
   "outputs": [],
   "source": [
    "# Can then even call methods on that value\n",
    "my_dict['key3'][0].upper()"
   ]
  },
  {
   "cell_type": "code",
   "execution_count": null,
   "id": "253e256d",
   "metadata": {},
   "outputs": [],
   "source": [
    "my_dict['key1']"
   ]
  },
  {
   "cell_type": "code",
   "execution_count": null,
   "id": "d1168cf7",
   "metadata": {},
   "outputs": [],
   "source": [
    "# Subtract 123 from the value\n",
    "my_dict['key1'] = my_dict['key1'] - 123"
   ]
  },
  {
   "cell_type": "code",
   "execution_count": null,
   "id": "20fe880c",
   "metadata": {},
   "outputs": [],
   "source": [
    "#Check\n",
    "my_dict['key1']"
   ]
  },
  {
   "cell_type": "code",
   "execution_count": null,
   "id": "d51b7f2b",
   "metadata": {},
   "outputs": [],
   "source": [
    "# Set the object equal to itself minus 123 \n",
    "my_dict['key1'] -= 123\n",
    "my_dict['key1']"
   ]
  },
  {
   "cell_type": "code",
   "execution_count": null,
   "id": "3a697bf8",
   "metadata": {},
   "outputs": [],
   "source": [
    "# Create a new dictionary\n",
    "d = {}"
   ]
  },
  {
   "cell_type": "code",
   "execution_count": null,
   "id": "4e422198",
   "metadata": {},
   "outputs": [],
   "source": [
    "# Create a new key through assignment\n",
    "d['animal'] = 'Dog'"
   ]
  },
  {
   "cell_type": "code",
   "execution_count": null,
   "id": "d08dd211",
   "metadata": {},
   "outputs": [],
   "source": [
    "# Can do this with any object\n",
    "d['answer'] = 42"
   ]
  },
  {
   "cell_type": "code",
   "execution_count": null,
   "id": "684fd7b0",
   "metadata": {},
   "outputs": [],
   "source": [
    "#Show\n",
    "d"
   ]
  },
  {
   "cell_type": "code",
   "execution_count": null,
   "id": "773fe6ce",
   "metadata": {},
   "outputs": [],
   "source": [
    "a={}"
   ]
  },
  {
   "cell_type": "code",
   "execution_count": null,
   "id": "c009edee",
   "metadata": {},
   "outputs": [],
   "source": [
    "a['Dixith']='student'"
   ]
  },
  {
   "cell_type": "code",
   "execution_count": null,
   "id": "f7e29011",
   "metadata": {},
   "outputs": [],
   "source": [
    "a['Ved']='Teacher'"
   ]
  },
  {
   "cell_type": "code",
   "execution_count": null,
   "id": "93334b1d",
   "metadata": {},
   "outputs": [],
   "source": [
    "# show\n",
    "a"
   ]
  },
  {
   "cell_type": "code",
   "execution_count": null,
   "id": "28af5539",
   "metadata": {},
   "outputs": [],
   "source": [
    "# Dictionary nested inside a dictionary nested inside a dictionary\n",
    "d = {'key1':{'nestkey':{'subnestkey':'value'}}}"
   ]
  },
  {
   "cell_type": "code",
   "execution_count": null,
   "id": "5e0af075",
   "metadata": {},
   "outputs": [],
   "source": [
    "# Keep calling the keys\n",
    "d['key1']['nestkey']['subnestkey']"
   ]
  },
  {
   "cell_type": "code",
   "execution_count": null,
   "id": "fecb9d35",
   "metadata": {},
   "outputs": [],
   "source": [
    "# Create a typical dictionary\n",
    "d = {'key1':1,'key2':2,'key3':3}"
   ]
  },
  {
   "cell_type": "code",
   "execution_count": null,
   "id": "d6de1133",
   "metadata": {},
   "outputs": [],
   "source": [
    "# Method to return a list of all keys \n",
    "d.keys()"
   ]
  },
  {
   "cell_type": "code",
   "execution_count": null,
   "id": "3d24100d",
   "metadata": {},
   "outputs": [],
   "source": [
    "d.values()"
   ]
  },
  {
   "cell_type": "code",
   "execution_count": null,
   "id": "1c35769f",
   "metadata": {},
   "outputs": [],
   "source": [
    "dir(d)"
   ]
  },
  {
   "cell_type": "code",
   "execution_count": null,
   "id": "123aaa85",
   "metadata": {},
   "outputs": [],
   "source": [
    "d['key1']=5"
   ]
  },
  {
   "cell_type": "code",
   "execution_count": null,
   "id": "ca304b24",
   "metadata": {},
   "outputs": [],
   "source": [
    "d"
   ]
  },
  {
   "cell_type": "code",
   "execution_count": null,
   "id": "9c2dc1df",
   "metadata": {},
   "outputs": [],
   "source": [
    "# Create a tuple\n",
    "t = (1,2,3)"
   ]
  },
  {
   "cell_type": "code",
   "execution_count": null,
   "id": "350cbfa4",
   "metadata": {},
   "outputs": [],
   "source": [
    "# Check len just like a list\n",
    "len(t)"
   ]
  },
  {
   "cell_type": "code",
   "execution_count": null,
   "id": "090257c4",
   "metadata": {},
   "outputs": [],
   "source": [
    "# Can also mix object types\n",
    "t = ('one',2)\n",
    "\n",
    "# Show\n",
    "t"
   ]
  },
  {
   "cell_type": "code",
   "execution_count": null,
   "id": "8b028822",
   "metadata": {},
   "outputs": [],
   "source": [
    "# Use indexing just like we did in lists\n",
    "t[0]"
   ]
  },
  {
   "cell_type": "code",
   "execution_count": null,
   "id": "6986ab44",
   "metadata": {},
   "outputs": [],
   "source": [
    "# Slicing just like a list\n",
    "t[-1]"
   ]
  },
  {
   "cell_type": "code",
   "execution_count": null,
   "id": "3ba8383c",
   "metadata": {},
   "outputs": [],
   "source": [
    "t=(1,2,3,4,2,2,7,8,9)"
   ]
  },
  {
   "cell_type": "code",
   "execution_count": null,
   "id": "265a1820",
   "metadata": {},
   "outputs": [],
   "source": [
    "t.index(2)"
   ]
  },
  {
   "cell_type": "code",
   "execution_count": null,
   "id": "cd0c16cc",
   "metadata": {},
   "outputs": [],
   "source": [
    "t.count(2)"
   ]
  },
  {
   "cell_type": "code",
   "execution_count": null,
   "id": "c7e1484b",
   "metadata": {},
   "outputs": [],
   "source": [
    "x = set()"
   ]
  },
  {
   "cell_type": "code",
   "execution_count": null,
   "id": "9927572a",
   "metadata": {},
   "outputs": [],
   "source": [
    "# We add to sets with the add() method\n",
    "x.add(1)"
   ]
  },
  {
   "cell_type": "code",
   "execution_count": null,
   "id": "e498be8a",
   "metadata": {},
   "outputs": [],
   "source": [
    "#Show\n",
    "x"
   ]
  },
  {
   "cell_type": "code",
   "execution_count": null,
   "id": "a076c051",
   "metadata": {},
   "outputs": [],
   "source": [
    "my_list=[1,2,2,3,3,3,4,4,4,4,5,5,5,5,5,6,6,6,6,6,6,]"
   ]
  },
  {
   "cell_type": "code",
   "execution_count": null,
   "id": "d40f1f29",
   "metadata": {},
   "outputs": [],
   "source": [
    "list(set(my_list))"
   ]
  },
  {
   "cell_type": "code",
   "execution_count": null,
   "id": "ef21a7ea",
   "metadata": {},
   "outputs": [],
   "source": [
    "x = set()"
   ]
  },
  {
   "cell_type": "code",
   "execution_count": null,
   "id": "4f619c07",
   "metadata": {},
   "outputs": [],
   "source": [
    "# We add to sets with the add() method\n",
    "x.add(3)"
   ]
  },
  {
   "cell_type": "code",
   "execution_count": null,
   "id": "17446d25",
   "metadata": {},
   "outputs": [],
   "source": [
    "#Show\n",
    "x"
   ]
  },
  {
   "cell_type": "code",
   "execution_count": null,
   "id": "25c88dbf",
   "metadata": {},
   "outputs": [],
   "source": [
    "# Set object to be a boolean\n",
    "a=True"
   ]
  },
  {
   "cell_type": "code",
   "execution_count": null,
   "id": "6d3ddc4e",
   "metadata": {},
   "outputs": [],
   "source": [
    "#Show\n",
    "a=10"
   ]
  },
  {
   "cell_type": "code",
   "execution_count": null,
   "id": "8b1d54e0",
   "metadata": {},
   "outputs": [],
   "source": [
    "# Output is boolean\n",
    "5 > 15"
   ]
  },
  {
   "cell_type": "code",
   "execution_count": null,
   "id": "614eaf0e",
   "metadata": {},
   "outputs": [],
   "source": [
    "20 > 15"
   ]
  },
  {
   "cell_type": "code",
   "execution_count": null,
   "id": "57cc26e4",
   "metadata": {},
   "outputs": [],
   "source": [
    "dir(x)"
   ]
  },
  {
   "cell_type": "code",
   "execution_count": null,
   "id": "e70944d2",
   "metadata": {},
   "outputs": [],
   "source": [
    "# None placeholder\n",
    "b = None"
   ]
  },
  {
   "cell_type": "code",
   "execution_count": null,
   "id": "f8b0e398",
   "metadata": {},
   "outputs": [],
   "source": [
    "# Show\n",
    "print(b)"
   ]
  },
  {
   "cell_type": "code",
   "execution_count": null,
   "id": "42ed25d5",
   "metadata": {},
   "outputs": [],
   "source": [
    "2 == 2"
   ]
  },
  {
   "cell_type": "code",
   "execution_count": null,
   "id": "16e62bcb",
   "metadata": {},
   "outputs": [],
   "source": [
    "1 == 0"
   ]
  },
  {
   "cell_type": "code",
   "execution_count": null,
   "id": "b2535cbf",
   "metadata": {},
   "outputs": [],
   "source": [
    "2 != 1"
   ]
  },
  {
   "cell_type": "code",
   "execution_count": null,
   "id": "f0bcbad2",
   "metadata": {},
   "outputs": [],
   "source": [
    "2 != 2"
   ]
  },
  {
   "cell_type": "code",
   "execution_count": null,
   "id": "55ace4c6",
   "metadata": {},
   "outputs": [],
   "source": [
    "2 > 1"
   ]
  },
  {
   "cell_type": "code",
   "execution_count": null,
   "id": "722d0c84",
   "metadata": {},
   "outputs": [],
   "source": [
    "2 > 4"
   ]
  },
  {
   "cell_type": "code",
   "execution_count": null,
   "id": "f55e34b0",
   "metadata": {},
   "outputs": [],
   "source": [
    "2 < 4"
   ]
  },
  {
   "cell_type": "code",
   "execution_count": null,
   "id": "ec64f258",
   "metadata": {},
   "outputs": [],
   "source": [
    "2 < 1"
   ]
  },
  {
   "cell_type": "code",
   "execution_count": null,
   "id": "01b7a290",
   "metadata": {},
   "outputs": [],
   "source": [
    "2 >= 2"
   ]
  },
  {
   "cell_type": "code",
   "execution_count": null,
   "id": "498e1524",
   "metadata": {},
   "outputs": [],
   "source": [
    "2 >= 1"
   ]
  },
  {
   "cell_type": "code",
   "execution_count": null,
   "id": "b75e342a",
   "metadata": {},
   "outputs": [],
   "source": [
    "2 <= 2"
   ]
  },
  {
   "cell_type": "code",
   "execution_count": null,
   "id": "c9bb5a30",
   "metadata": {},
   "outputs": [],
   "source": [
    "2 <= 4"
   ]
  },
  {
   "cell_type": "code",
   "execution_count": null,
   "id": "8bfe8480",
   "metadata": {},
   "outputs": [],
   "source": [
    "1 < 2 < 3"
   ]
  },
  {
   "cell_type": "code",
   "execution_count": null,
   "id": "9d5d534e",
   "metadata": {},
   "outputs": [],
   "source": [
    "1<2 and 2<3"
   ]
  },
  {
   "cell_type": "code",
   "execution_count": null,
   "id": "4e2bc677",
   "metadata": {},
   "outputs": [],
   "source": [
    "1 < 3 > 2"
   ]
  },
  {
   "cell_type": "code",
   "execution_count": null,
   "id": "0b78e993",
   "metadata": {},
   "outputs": [],
   "source": [
    "1<3 and 3>2"
   ]
  },
  {
   "cell_type": "code",
   "execution_count": null,
   "id": "5cdd75fb",
   "metadata": {},
   "outputs": [],
   "source": [
    "1==2 or 2<3"
   ]
  },
  {
   "cell_type": "code",
   "execution_count": null,
   "id": "ffb39c51",
   "metadata": {},
   "outputs": [],
   "source": [
    "1==1 or 100==1"
   ]
  },
  {
   "cell_type": "code",
   "execution_count": null,
   "id": "9364327d",
   "metadata": {},
   "outputs": [],
   "source": [
    "if True:\n",
    "    print('It was true!')"
   ]
  },
  {
   "cell_type": "code",
   "execution_count": null,
   "id": "b6150489",
   "metadata": {},
   "outputs": [],
   "source": [
    "x=False\n",
    "if x:\n",
    "    print('x was true!')\n",
    "else:\n",
    "    print('I will be printed in any case where x is not true')"
   ]
  },
  {
   "cell_type": "code",
   "execution_count": null,
   "id": "b1f59015",
   "metadata": {},
   "outputs": [],
   "source": [
    "x=True\n",
    "if x:\n",
    "    print('x was true!')\n",
    "else:\n",
    "    print('I will be printed in any case where x is not true')"
   ]
  },
  {
   "cell_type": "code",
   "execution_count": null,
   "id": "2aad8ae5",
   "metadata": {},
   "outputs": [],
   "source": [
    "loc='Bank'\n",
    "\n",
    "if loc=='Auto Shop':\n",
    "    print('Welcome to the Auto Shop!')\n",
    "elif loc=='Bank':\n",
    "    print('Welcome to the bank!')\n",
    "else:\n",
    "    print('Where are you?')"
   ]
  },
  {
   "cell_type": "code",
   "execution_count": null,
   "id": "59434629",
   "metadata": {},
   "outputs": [],
   "source": [
    "loc=='Auto shop'"
   ]
  },
  {
   "cell_type": "code",
   "execution_count": null,
   "id": "3071302a",
   "metadata": {},
   "outputs": [],
   "source": [
    "loc==\"Bank\""
   ]
  },
  {
   "cell_type": "code",
   "execution_count": null,
   "id": "291f42bc",
   "metadata": {},
   "outputs": [],
   "source": [
    "person = 'Sammy'\n",
    "\n",
    "if person == 'Sammy':\n",
    "    print('Welcome Sammy!')\n",
    "else:\n",
    "    print(\"Welcome, what's your name?\")"
   ]
  },
  {
   "cell_type": "code",
   "execution_count": null,
   "id": "3c3c306c",
   "metadata": {},
   "outputs": [],
   "source": [
    "person='George'\n",
    "\n",
    "if person=='Sammy':\n",
    "    print('Welcome Sammy!')\n",
    "elif person=='George':\n",
    "    print('Welcome George!')\n",
    "else:\n",
    "    print(\"Welcome, what's your name?\")"
   ]
  },
  {
   "cell_type": "code",
   "execution_count": null,
   "id": "86dfd743",
   "metadata": {},
   "outputs": [],
   "source": [
    "# We'll learn how to automate this sort of list in the next lecture\n",
    "list1 = [1,2,3,4,5,6,7,8,9,10]"
   ]
  },
  {
   "cell_type": "code",
   "execution_count": null,
   "id": "a796833f",
   "metadata": {},
   "outputs": [],
   "source": [
    "for num in list1:\n",
    "    print(num)"
   ]
  },
  {
   "cell_type": "code",
   "execution_count": null,
   "id": "a0750b7d",
   "metadata": {},
   "outputs": [],
   "source": [
    "17 % 5"
   ]
  },
  {
   "cell_type": "code",
   "execution_count": null,
   "id": "aeb9be99",
   "metadata": {},
   "outputs": [],
   "source": [
    "# 3 Remainder 1\n",
    "10 % 3"
   ]
  },
  {
   "cell_type": "code",
   "execution_count": null,
   "id": "bc757dd5",
   "metadata": {},
   "outputs": [],
   "source": [
    "# 2 Remainder 4\n",
    "18 % 7"
   ]
  },
  {
   "cell_type": "code",
   "execution_count": null,
   "id": "b6152a11",
   "metadata": {},
   "outputs": [],
   "source": [
    "# 2 no remainder\n",
    "4 % 2"
   ]
  },
  {
   "cell_type": "code",
   "execution_count": null,
   "id": "2978ccce",
   "metadata": {},
   "outputs": [],
   "source": [
    "for num in list1:\n",
    "    if num % 2 == 0:\n",
    "        print(num)"
   ]
  },
  {
   "cell_type": "code",
   "execution_count": null,
   "id": "3af032df",
   "metadata": {},
   "outputs": [],
   "source": [
    "for num in list1:\n",
    "    if num %2 == 0:\n",
    "        print(num)\n",
    "    else:\n",
    "        print('odd number')"
   ]
  },
  {
   "cell_type": "code",
   "execution_count": null,
   "id": "e9e3a830",
   "metadata": {},
   "outputs": [],
   "source": [
    "# Start sum at zero\n",
    "list_sum = 0 \n",
    "\n",
    "for num in list1:\n",
    "    list_sum = list_sum + num\n",
    "\n",
    "print(list_sum)"
   ]
  },
  {
   "cell_type": "code",
   "execution_count": null,
   "id": "030d93cd",
   "metadata": {},
   "outputs": [],
   "source": [
    "# Start sum at zero\n",
    "list_sum = 0 \n",
    "\n",
    "for num in list1:\n",
    "    list_sum += num\n",
    "\n",
    "print(list_sum)"
   ]
  },
  {
   "cell_type": "code",
   "execution_count": null,
   "id": "afdc7b6b",
   "metadata": {},
   "outputs": [],
   "source": [
    "for letter in 'This is string.':\n",
    "    print(letter)"
   ]
  },
  {
   "cell_type": "code",
   "execution_count": null,
   "id": "6b1a9680",
   "metadata": {},
   "outputs": [],
   "source": [
    "tup=(1,2,3,4,5)\n",
    "for t in tup:\n",
    "    print(t)"
   ]
  },
  {
   "cell_type": "code",
   "execution_count": null,
   "id": "e01dc7ee",
   "metadata": {},
   "outputs": [],
   "source": [
    "list2=[(2,4),(6,8),(10,12)]"
   ]
  },
  {
   "cell_type": "code",
   "execution_count": null,
   "id": "a8f72240",
   "metadata": {},
   "outputs": [],
   "source": [
    "for tup in list2:\n",
    "    print(tup)"
   ]
  },
  {
   "cell_type": "code",
   "execution_count": null,
   "id": "79f4bcb1",
   "metadata": {},
   "outputs": [],
   "source": [
    "# Now with unpacking!\n",
    "for(t1,t2) in list2:\n",
    "    print(t1)"
   ]
  },
  {
   "cell_type": "code",
   "execution_count": null,
   "id": "860a2a64",
   "metadata": {},
   "outputs": [],
   "source": [
    "# Now with unpacking!\n",
    "for(t1,t2) in list2:\n",
    "    print(t2)"
   ]
  },
  {
   "cell_type": "code",
   "execution_count": null,
   "id": "bef23bda",
   "metadata": {},
   "outputs": [],
   "source": [
    "d={'k1':1,'k2':2,'k3':3}"
   ]
  },
  {
   "cell_type": "code",
   "execution_count": null,
   "id": "90f052b4",
   "metadata": {},
   "outputs": [],
   "source": [
    "for item in d:\n",
    "    print(item)"
   ]
  },
  {
   "cell_type": "code",
   "execution_count": null,
   "id": "610a2ad2",
   "metadata": {},
   "outputs": [],
   "source": [
    "# Create a dictionary view object\n",
    "d.items()"
   ]
  },
  {
   "cell_type": "code",
   "execution_count": null,
   "id": "2541140d",
   "metadata": {},
   "outputs": [],
   "source": [
    "d.keys()"
   ]
  },
  {
   "cell_type": "code",
   "execution_count": null,
   "id": "98e19740",
   "metadata": {},
   "outputs": [],
   "source": [
    "d.values()"
   ]
  },
  {
   "cell_type": "code",
   "execution_count": null,
   "id": "98a729c9",
   "metadata": {},
   "outputs": [],
   "source": [
    "# Dictionary unpacking\n",
    "for k,v in d.items():\n",
    "    print(k)\n",
    "    print(v)"
   ]
  },
  {
   "cell_type": "code",
   "execution_count": null,
   "id": "757dbd68",
   "metadata": {},
   "outputs": [],
   "source": [
    "list(d.keys())"
   ]
  },
  {
   "cell_type": "code",
   "execution_count": null,
   "id": "dedd1f0a",
   "metadata": {},
   "outputs": [],
   "source": [
    "sorted(d.values())"
   ]
  },
  {
   "cell_type": "code",
   "execution_count": null,
   "id": "fc748947",
   "metadata": {},
   "outputs": [],
   "source": [
    "x = 0\n",
    "\n",
    "while x < 10:\n",
    "    print('x is currently:',x)\n",
    "    print(' x is still less than 10, adding 1 to x')\n",
    "    x+=1"
   ]
  },
  {
   "cell_type": "code",
   "execution_count": null,
   "id": "b450e65c",
   "metadata": {},
   "outputs": [],
   "source": [
    "x = 0\n",
    "\n",
    "while x < 10:\n",
    "    print('x is currently: ',x)\n",
    "    print(' x is still less than 10, adding 1 to x')\n",
    "    x+=1\n",
    "    \n",
    "else:\n",
    "    print('All Done!')"
   ]
  },
  {
   "cell_type": "code",
   "execution_count": null,
   "id": "01547701",
   "metadata": {},
   "outputs": [],
   "source": [
    "x = 0\n",
    "\n",
    "while x < 10:\n",
    "    print('x is currently: ',x)\n",
    "    print(' x is still less than 10, adding 1 to x')\n",
    "    x+=1\n",
    "    if x==3:\n",
    "        print('x==3')\n",
    "    else:\n",
    "        print('continuing...')\n",
    "        continue"
   ]
  },
  {
   "cell_type": "code",
   "execution_count": null,
   "id": "c70cea59",
   "metadata": {},
   "outputs": [],
   "source": [
    "x=0\n",
    "while x < 10:\n",
    "    print('x is currently:',x)\n",
    "    print('x is still less than 10,adding 1 to x')\n",
    "    x+=1\n",
    "    if x==3:\n",
    "        print('Breaking because x==3')\n",
    "        break\n",
    "    else:\n",
    "        print('continuing...')\n",
    "        continue"
   ]
  },
  {
   "cell_type": "code",
   "execution_count": null,
   "id": "372462b1",
   "metadata": {},
   "outputs": [],
   "source": [
    "range(0,11)"
   ]
  },
  {
   "cell_type": "code",
   "execution_count": null,
   "id": "7cf35e9b",
   "metadata": {},
   "outputs": [],
   "source": [
    "# Notice how 11 is not included, up to but not including 11, just like slice notation!\n",
    "list(range(0,11))"
   ]
  },
  {
   "cell_type": "code",
   "execution_count": null,
   "id": "e9876dde",
   "metadata": {},
   "outputs": [],
   "source": [
    "list(range(0,12))"
   ]
  },
  {
   "cell_type": "code",
   "execution_count": null,
   "id": "969d91fc",
   "metadata": {},
   "outputs": [],
   "source": [
    "# Third parameter is step size!\n",
    "# step size just means how big of a jump/leap/step you \n",
    "# take from the starting number to get to the next number.\n",
    "\n",
    "list(range(0,11,2))"
   ]
  },
  {
   "cell_type": "code",
   "execution_count": null,
   "id": "f5b73ce3",
   "metadata": {},
   "outputs": [],
   "source": [
    "list(range(0,101,10))"
   ]
  },
  {
   "cell_type": "code",
   "execution_count": null,
   "id": "8d167b08",
   "metadata": {},
   "outputs": [],
   "source": [
    "index_count=0\n",
    "for letter in 'abcdef':\n",
    "    print(\"At index {} the letter is {}\".format(index_count,letter))\n",
    "    index_count+=1"
   ]
  },
  {
   "cell_type": "code",
   "execution_count": null,
   "id": "331aceb4",
   "metadata": {},
   "outputs": [],
   "source": [
    "# Notice the tuple unpacking!\n",
    "\n",
    "for i,letter in enumerate('abcdef'):\n",
    "    print(\"At index {} the letter is {}\".format(i,letter))"
   ]
  },
  {
   "cell_type": "code",
   "execution_count": null,
   "id": "abaed8a6",
   "metadata": {},
   "outputs": [],
   "source": [
    "# Notice the tuple unpacking!\n",
    "# print every letter at odd position\n",
    "\n",
    "for i,letter in enumerate('abcdef'):\n",
    "    \n",
    "    if i % 2 !=0:\n",
    "        print(\"At index {} the letter is {}\".format(i,letter))"
   ]
  },
  {
   "cell_type": "code",
   "execution_count": null,
   "id": "25d832c4",
   "metadata": {},
   "outputs": [],
   "source": [
    "list(enumerate('abcde'))"
   ]
  },
  {
   "cell_type": "code",
   "execution_count": null,
   "id": "9f1d68bd",
   "metadata": {},
   "outputs": [],
   "source": [
    "mylist1 = [1,2,3,4,5]\n",
    "mylist2 = ['a','b','c','d','e']"
   ]
  },
  {
   "cell_type": "code",
   "execution_count": null,
   "id": "decf88ec",
   "metadata": {},
   "outputs": [],
   "source": [
    "# This one is also a generator! We will explain this later, but for now let's transform it to a list\n",
    "zip(mylist1,mylist2)"
   ]
  },
  {
   "cell_type": "code",
   "execution_count": null,
   "id": "3303fc8b",
   "metadata": {},
   "outputs": [],
   "source": [
    "list(zip(mylist1,mylist2))"
   ]
  },
  {
   "cell_type": "code",
   "execution_count": null,
   "id": "a7e0aedf",
   "metadata": {},
   "outputs": [],
   "source": [
    "for item1, item2 in zip(mylist1,mylist2):\n",
    "    print('For this tuple, first item was {} and second item was {}'.format(item1,item2))"
   ]
  },
  {
   "cell_type": "code",
   "execution_count": null,
   "id": "23db4743",
   "metadata": {},
   "outputs": [],
   "source": [
    "'x' in ['x','y','z']"
   ]
  },
  {
   "cell_type": "code",
   "execution_count": null,
   "id": "efefa8e3",
   "metadata": {},
   "outputs": [],
   "source": [
    "'x' in [1,2,3]"
   ]
  },
  {
   "cell_type": "code",
   "execution_count": null,
   "id": "ab9fe9fe",
   "metadata": {},
   "outputs": [],
   "source": [
    "'x' not in ['x','y','z']"
   ]
  },
  {
   "cell_type": "code",
   "execution_count": null,
   "id": "154ff42e",
   "metadata": {},
   "outputs": [],
   "source": [
    "'x' not in [1,2,3]"
   ]
  },
  {
   "cell_type": "code",
   "execution_count": null,
   "id": "9593dcc9",
   "metadata": {},
   "outputs": [],
   "source": [
    "mylist = [10,20,30,40,100]"
   ]
  },
  {
   "cell_type": "code",
   "execution_count": null,
   "id": "5c02967b",
   "metadata": {},
   "outputs": [],
   "source": [
    "min(mylist)"
   ]
  },
  {
   "cell_type": "code",
   "execution_count": null,
   "id": "158edb48",
   "metadata": {},
   "outputs": [],
   "source": [
    "max(mylist)"
   ]
  },
  {
   "cell_type": "code",
   "execution_count": null,
   "id": "5b143dc8",
   "metadata": {},
   "outputs": [],
   "source": [
    "from random import shuffle"
   ]
  },
  {
   "cell_type": "code",
   "execution_count": null,
   "id": "1d18c0b4",
   "metadata": {},
   "outputs": [],
   "source": [
    "# This shuffles the list \"in-place\" meaning it won't return\n",
    "# anything, instead it will effect the list passed\n",
    "shuffle(mylist)"
   ]
  },
  {
   "cell_type": "code",
   "execution_count": null,
   "id": "457d472c",
   "metadata": {},
   "outputs": [],
   "source": [
    "mylist"
   ]
  },
  {
   "cell_type": "code",
   "execution_count": null,
   "id": "973278e0",
   "metadata": {},
   "outputs": [],
   "source": [
    "from random import randint"
   ]
  },
  {
   "cell_type": "code",
   "execution_count": null,
   "id": "1f7dfa6d",
   "metadata": {},
   "outputs": [],
   "source": [
    "# Return random integer in range [a, b], including both end points.\n",
    "randint(0,100)"
   ]
  },
  {
   "cell_type": "code",
   "execution_count": null,
   "id": "7f516395",
   "metadata": {},
   "outputs": [],
   "source": [
    "# Return random integer in range [a, b], including both end points.\n",
    "randint(0,100)"
   ]
  },
  {
   "cell_type": "code",
   "execution_count": null,
   "id": "985cf110",
   "metadata": {},
   "outputs": [],
   "source": [
    "input('Enter Something into this box: ')"
   ]
  },
  {
   "cell_type": "code",
   "execution_count": null,
   "id": "3f68d8d6",
   "metadata": {},
   "outputs": [],
   "source": [
    "# 'word'\n",
    "# collect every charchter in this string in a list\n",
    "lst=[]\n",
    "\n",
    "for x in 'word':\n",
    "    lst.append(x)\n",
    "    \n",
    "print(lst)"
   ]
  },
  {
   "cell_type": "code",
   "execution_count": null,
   "id": "90ee6c72",
   "metadata": {},
   "outputs": [],
   "source": [
    "# Grab every letter in string\n",
    "lst = [x for x in 'word']"
   ]
  },
  {
   "cell_type": "code",
   "execution_count": null,
   "id": "6860466c",
   "metadata": {},
   "outputs": [],
   "source": [
    "# Check\n",
    "lst"
   ]
  },
  {
   "cell_type": "code",
   "execution_count": null,
   "id": "9f7b55e5",
   "metadata": {},
   "outputs": [],
   "source": [
    "sqr_lst=[]\n",
    "\n",
    "for x in range(0,11):\n",
    "    sqr_lst.append(x**2)\n",
    "    \n",
    "print(sqr_lst)"
   ]
  },
  {
   "cell_type": "code",
   "execution_count": null,
   "id": "a345dc85",
   "metadata": {},
   "outputs": [],
   "source": [
    "# Square numbers in range and turn into list\n",
    "lst = [x**2 for x in range(0,11)]"
   ]
  },
  {
   "cell_type": "code",
   "execution_count": null,
   "id": "8057fbac",
   "metadata": {},
   "outputs": [],
   "source": [
    "lst"
   ]
  },
  {
   "cell_type": "code",
   "execution_count": null,
   "id": "43b8d596",
   "metadata": {},
   "outputs": [],
   "source": [
    "squr_lst=[]\n",
    "\n",
    "for x in range(0,11):\n",
    "    if x % 2 == 0:\n",
    "        squr_lst.append(x)\n",
    "    \n",
    "print(squr_lst)"
   ]
  },
  {
   "cell_type": "code",
   "execution_count": null,
   "id": "733faf2a",
   "metadata": {},
   "outputs": [],
   "source": [
    "# Check for even numbers in a range\n",
    "lst = [x for x in range(11) if x % 2 == 0]"
   ]
  },
  {
   "cell_type": "code",
   "execution_count": null,
   "id": "2471280f",
   "metadata": {},
   "outputs": [],
   "source": [
    "lst"
   ]
  },
  {
   "cell_type": "code",
   "execution_count": null,
   "id": "f438c733",
   "metadata": {},
   "outputs": [],
   "source": [
    "# Convert Celsius to Fahrenheit\n",
    "celsius = [0,10,20.1,34.5]\n",
    "\n",
    "fahrenheit = [((9/5)*temp + 32) for temp in celsius ]\n",
    "\n",
    "fahrenheit"
   ]
  },
  {
   "cell_type": "code",
   "execution_count": null,
   "id": "b38121c4",
   "metadata": {},
   "outputs": [],
   "source": [
    "lst = [ x**2 for x in [x**2 for x in range(11)]]\n",
    "lst"
   ]
  },
  {
   "cell_type": "code",
   "execution_count": null,
   "id": "e37caf04",
   "metadata": {},
   "outputs": [],
   "source": [
    "lst=[]\n",
    "\n",
    "for x in range(0,11):\n",
    "    lst.append(x**2)\n",
    "    \n",
    "new_lst=[]\n",
    "for x in lst:\n",
    "    new_lst.append(x**2)\n",
    "    \n",
    "print(new_lst)    "
   ]
  },
  {
   "cell_type": "code",
   "execution_count": null,
   "id": "def07c8a",
   "metadata": {},
   "outputs": [],
   "source": [
    "# Create a simple list\n",
    "lst=[1,2,3,4,5]"
   ]
  },
  {
   "cell_type": "code",
   "execution_count": null,
   "id": "041b127e",
   "metadata": {},
   "outputs": [],
   "source": [
    "lst.append(6)"
   ]
  },
  {
   "cell_type": "code",
   "execution_count": null,
   "id": "303584a1",
   "metadata": {},
   "outputs": [],
   "source": [
    "lst"
   ]
  },
  {
   "cell_type": "code",
   "execution_count": null,
   "id": "0f306c24",
   "metadata": {},
   "outputs": [],
   "source": [
    "lst.extend([7,8,9])"
   ]
  },
  {
   "cell_type": "code",
   "execution_count": null,
   "id": "a981f7ca",
   "metadata": {},
   "outputs": [],
   "source": [
    "lst"
   ]
  },
  {
   "cell_type": "code",
   "execution_count": null,
   "id": "4c383611",
   "metadata": {},
   "outputs": [],
   "source": [
    "lst.count(2)"
   ]
  },
  {
   "cell_type": "code",
   "execution_count": null,
   "id": "9eca8bb6",
   "metadata": {},
   "outputs": [],
   "source": [
    "lst.insert(5,7)"
   ]
  },
  {
   "cell_type": "code",
   "execution_count": null,
   "id": "3c7d9518",
   "metadata": {},
   "outputs": [],
   "source": [
    "lst"
   ]
  },
  {
   "cell_type": "code",
   "execution_count": null,
   "id": "ef5499e8",
   "metadata": {},
   "outputs": [],
   "source": [
    "lst.remove(7)"
   ]
  },
  {
   "cell_type": "code",
   "execution_count": null,
   "id": "227e4479",
   "metadata": {},
   "outputs": [],
   "source": [
    "lst"
   ]
  },
  {
   "cell_type": "code",
   "execution_count": null,
   "id": "a22b8202",
   "metadata": {},
   "outputs": [],
   "source": [
    "lst.insert(6,7)"
   ]
  },
  {
   "cell_type": "code",
   "execution_count": null,
   "id": "aa5039ea",
   "metadata": {},
   "outputs": [],
   "source": [
    "lst"
   ]
  },
  {
   "cell_type": "code",
   "execution_count": null,
   "id": "9a7b9d4e",
   "metadata": {},
   "outputs": [],
   "source": [
    "lst.reverse()"
   ]
  },
  {
   "cell_type": "code",
   "execution_count": null,
   "id": "52a44027",
   "metadata": {},
   "outputs": [],
   "source": [
    "lst"
   ]
  },
  {
   "cell_type": "code",
   "execution_count": null,
   "id": "9989ed8c",
   "metadata": {},
   "outputs": [],
   "source": [
    "lst.sort()"
   ]
  },
  {
   "cell_type": "code",
   "execution_count": null,
   "id": "5891e896",
   "metadata": {},
   "outputs": [],
   "source": [
    "lst"
   ]
  },
  {
   "cell_type": "code",
   "execution_count": null,
   "id": "4f112a0e",
   "metadata": {},
   "outputs": [],
   "source": [
    "lst.pop(0)"
   ]
  },
  {
   "cell_type": "code",
   "execution_count": null,
   "id": "174b6e3a",
   "metadata": {},
   "outputs": [],
   "source": [
    "lst"
   ]
  },
  {
   "cell_type": "code",
   "execution_count": null,
   "id": "3cc04609",
   "metadata": {},
   "outputs": [],
   "source": [
    "lst.insert(0,1)"
   ]
  },
  {
   "cell_type": "code",
   "execution_count": null,
   "id": "f318170c",
   "metadata": {},
   "outputs": [],
   "source": [
    "lst"
   ]
  },
  {
   "cell_type": "code",
   "execution_count": null,
   "id": "6c76b563",
   "metadata": {},
   "outputs": [],
   "source": [
    "lst.pop(7)"
   ]
  },
  {
   "cell_type": "code",
   "execution_count": null,
   "id": "ed6aa85c",
   "metadata": {},
   "outputs": [],
   "source": [
    "lst"
   ]
  },
  {
   "cell_type": "code",
   "execution_count": null,
   "id": "397bbf87",
   "metadata": {},
   "outputs": [],
   "source": [
    "def name_of_function(arg1,arg2):\n",
    "    '''\n",
    "    This is where the function's Document String (docstring) goes.\n",
    "    When you call help() on your function it will be printed out.\n",
    "    '''\n",
    "    # Do stuff here\n",
    "    # Return desired result\n",
    "    pass"
   ]
  },
  {
   "cell_type": "code",
   "execution_count": null,
   "id": "66389f3e",
   "metadata": {},
   "outputs": [],
   "source": [
    "help(name_of_function)"
   ]
  },
  {
   "cell_type": "code",
   "execution_count": null,
   "id": "fb386d85",
   "metadata": {},
   "outputs": [],
   "source": [
    "def name_of_function(arg1,arg2):\n",
    "    # do the operation here\n",
    "    pass"
   ]
  },
  {
   "cell_type": "code",
   "execution_count": null,
   "id": "17e06ad2",
   "metadata": {},
   "outputs": [],
   "source": [
    "help(name_of_function)"
   ]
  },
  {
   "cell_type": "code",
   "execution_count": null,
   "id": "c3685d0c",
   "metadata": {},
   "outputs": [],
   "source": [
    "def say_hello():\n",
    "    print('hello')"
   ]
  },
  {
   "cell_type": "code",
   "execution_count": null,
   "id": "233d08f3",
   "metadata": {},
   "outputs": [],
   "source": [
    "say_hello()"
   ]
  },
  {
   "cell_type": "code",
   "execution_count": null,
   "id": "7fa91809",
   "metadata": {},
   "outputs": [],
   "source": [
    "say_hello"
   ]
  },
  {
   "cell_type": "code",
   "execution_count": null,
   "id": "5ff21ce8",
   "metadata": {},
   "outputs": [],
   "source": [
    "def greeting(name):\n",
    "    print(f'Hello {name}')"
   ]
  },
  {
   "cell_type": "code",
   "execution_count": null,
   "id": "790e875f",
   "metadata": {},
   "outputs": [],
   "source": [
    "greeting('Jose')"
   ]
  },
  {
   "cell_type": "code",
   "execution_count": null,
   "id": "416f2d38",
   "metadata": {},
   "outputs": [],
   "source": [
    "greeting('ved')"
   ]
  },
  {
   "cell_type": "code",
   "execution_count": null,
   "id": "faf5df25",
   "metadata": {},
   "outputs": [],
   "source": [
    "greeting('Dixith')"
   ]
  },
  {
   "cell_type": "code",
   "execution_count": null,
   "id": "3a1f8142",
   "metadata": {},
   "outputs": [],
   "source": [
    "name = greeting('Parul')"
   ]
  },
  {
   "cell_type": "code",
   "execution_count": null,
   "id": "8a4bb0f3",
   "metadata": {},
   "outputs": [],
   "source": [
    "print(name)"
   ]
  },
  {
   "cell_type": "code",
   "execution_count": null,
   "id": "89d35439",
   "metadata": {},
   "outputs": [],
   "source": [
    "def add_num(num1,num2):\n",
    "    return num1+num2"
   ]
  },
  {
   "cell_type": "code",
   "execution_count": null,
   "id": "ab4ad94a",
   "metadata": {},
   "outputs": [],
   "source": [
    "add_num(4,5)"
   ]
  },
  {
   "cell_type": "code",
   "execution_count": null,
   "id": "249ca585",
   "metadata": {},
   "outputs": [],
   "source": [
    "# Can also save as variable due to return\n",
    "result = add_num(4,5)"
   ]
  },
  {
   "cell_type": "code",
   "execution_count": null,
   "id": "abfc808d",
   "metadata": {},
   "outputs": [],
   "source": [
    "print(result)"
   ]
  },
  {
   "cell_type": "code",
   "execution_count": null,
   "id": "ce54491d",
   "metadata": {},
   "outputs": [],
   "source": [
    "add_num('one','two')"
   ]
  },
  {
   "cell_type": "code",
   "execution_count": null,
   "id": "025ae2fe",
   "metadata": {},
   "outputs": [],
   "source": [
    "def print_result(a,b):\n",
    "    print(a+b)"
   ]
  },
  {
   "cell_type": "code",
   "execution_count": null,
   "id": "79144285",
   "metadata": {},
   "outputs": [],
   "source": [
    "def return_result(a,b):\n",
    "    return a+b"
   ]
  },
  {
   "cell_type": "code",
   "execution_count": null,
   "id": "f09a9d00",
   "metadata": {},
   "outputs": [],
   "source": [
    "print_result(10,5)"
   ]
  },
  {
   "cell_type": "code",
   "execution_count": null,
   "id": "ba940a64",
   "metadata": {},
   "outputs": [],
   "source": [
    "# You won't see any output if you run this in a .py script\n",
    "return_result(10,5)"
   ]
  },
  {
   "cell_type": "code",
   "execution_count": null,
   "id": "353f31fa",
   "metadata": {},
   "outputs": [],
   "source": [
    "# But what happens if we actually want to save this result for later use?\n",
    "my_result = print_result(20,20)"
   ]
  },
  {
   "cell_type": "code",
   "execution_count": null,
   "id": "c993f7c0",
   "metadata": {},
   "outputs": [],
   "source": [
    "my_result"
   ]
  },
  {
   "cell_type": "code",
   "execution_count": null,
   "id": "c3956040",
   "metadata": {},
   "outputs": [],
   "source": [
    "print(my_result)"
   ]
  },
  {
   "cell_type": "code",
   "execution_count": null,
   "id": "c27d5535",
   "metadata": {},
   "outputs": [],
   "source": [
    "type(my_result)"
   ]
  },
  {
   "cell_type": "code",
   "execution_count": null,
   "id": "4bbe8a26",
   "metadata": {},
   "outputs": [],
   "source": [
    "# Be careful! Notice how print_result() doesn't let you actually save the result to a variable! It only prints it out,with \n",
    "# print() returning None for the assignment!\n",
    "\n",
    "my_result = return_result(20,20)"
   ]
  },
  {
   "cell_type": "code",
   "execution_count": null,
   "id": "39994b6b",
   "metadata": {},
   "outputs": [],
   "source": [
    "my_result"
   ]
  },
  {
   "cell_type": "code",
   "execution_count": null,
   "id": "ac5ee5c0",
   "metadata": {},
   "outputs": [],
   "source": [
    "my_result + 50"
   ]
  },
  {
   "cell_type": "code",
   "execution_count": null,
   "id": "eb810fc9",
   "metadata": {},
   "outputs": [],
   "source": [
    "2 % 2"
   ]
  },
  {
   "cell_type": "code",
   "execution_count": null,
   "id": "cd182d4c",
   "metadata": {},
   "outputs": [],
   "source": [
    "20 % 2"
   ]
  },
  {
   "cell_type": "code",
   "execution_count": null,
   "id": "79722e8c",
   "metadata": {},
   "outputs": [],
   "source": [
    "21 % 2"
   ]
  },
  {
   "cell_type": "code",
   "execution_count": null,
   "id": "b77243b4",
   "metadata": {},
   "outputs": [],
   "source": [
    "20 % 2 == 0"
   ]
  },
  {
   "cell_type": "code",
   "execution_count": null,
   "id": "bd346f34",
   "metadata": {},
   "outputs": [],
   "source": [
    "21 % 2 == 0"
   ]
  },
  {
   "cell_type": "code",
   "execution_count": null,
   "id": "ba10b2f6",
   "metadata": {},
   "outputs": [],
   "source": [
    "x = 4\n",
    "\n",
    "if x%2 ==0:\n",
    "    print(\"Even number : \",True)\n",
    "else:\n",
    "    print('odd number: ',False)"
   ]
  },
  {
   "cell_type": "code",
   "execution_count": null,
   "id": "6fbf0afe",
   "metadata": {},
   "outputs": [],
   "source": [
    "def even_check(number):\n",
    "    return number % 2 == 0"
   ]
  },
  {
   "cell_type": "code",
   "execution_count": null,
   "id": "b84b16fd",
   "metadata": {},
   "outputs": [],
   "source": [
    "even_check(20)"
   ]
  },
  {
   "cell_type": "code",
   "execution_count": null,
   "id": "c7dafbef",
   "metadata": {},
   "outputs": [],
   "source": [
    "even_check(21)"
   ]
  },
  {
   "cell_type": "code",
   "execution_count": null,
   "id": "c379ff17",
   "metadata": {},
   "outputs": [],
   "source": [
    "def check_even_list(num_list):\n",
    "    #go through each number\n",
    "    for number in num_list:\n",
    "        # once we get a \"hit\" on an even number,we return true\n",
    "        if number %2==0:\n",
    "            return True\n",
    "        #Otherwise we don't do anything\n",
    "        else:\n",
    "            pass\n",
    "        "
   ]
  },
  {
   "cell_type": "code",
   "execution_count": null,
   "id": "be2ebfa0",
   "metadata": {},
   "outputs": [],
   "source": [
    "check_even_list([1,2,3])"
   ]
  },
  {
   "cell_type": "code",
   "execution_count": null,
   "id": "2babce55",
   "metadata": {},
   "outputs": [],
   "source": [
    "check_even_list([1,1,1])"
   ]
  },
  {
   "cell_type": "code",
   "execution_count": null,
   "id": "eefa7923",
   "metadata": {},
   "outputs": [],
   "source": [
    "def check_mom_list(num_list):\n",
    "    for number in num_list:\n",
    "        if number %2==0:\n",
    "            return True\n",
    "        else:\n",
    "            pass"
   ]
  },
  {
   "cell_type": "code",
   "execution_count": null,
   "id": "4e68348a",
   "metadata": {},
   "outputs": [],
   "source": [
    "check_mom_list([1,2,3])"
   ]
  },
  {
   "cell_type": "code",
   "execution_count": null,
   "id": "a831e41a",
   "metadata": {},
   "outputs": [],
   "source": [
    "check_mom_list([1,1,1])"
   ]
  },
  {
   "cell_type": "code",
   "execution_count": null,
   "id": "884d5e1d",
   "metadata": {},
   "outputs": [],
   "source": [
    "def check_even_list(num_list):\n",
    "    # Go through each number\n",
    "    for number in num_list:\n",
    "        # Once we get a \"hit\" on an even number, we return True\n",
    "        if number % 2 == 0:\n",
    "            return True\n",
    "        # This is WRONG! This returns False at the very first odd number!\n",
    "        # It doesn't end up checking the other numbers in the list!\n",
    "        else:\n",
    "            return False"
   ]
  },
  {
   "cell_type": "code",
   "execution_count": null,
   "id": "426394df",
   "metadata": {},
   "outputs": [],
   "source": [
    "# UH OH! It is returning False after hitting the first 1\n",
    "check_even_list([1,2,3])"
   ]
  },
  {
   "cell_type": "code",
   "execution_count": null,
   "id": "20061ecc",
   "metadata": {},
   "outputs": [],
   "source": [
    "def check_even_list(num_list):\n",
    "    # Go through each number\n",
    "    for number in num_list:\n",
    "        # Once we get a \"hit\" on an even number, we return True\n",
    "        if number % 2 == 0:\n",
    "            return True\n",
    "        # Don't do anything if its not even\n",
    "        else:\n",
    "            pass\n",
    "    # Notice the indentation! This ensures we run through the entire for loop    \n",
    "    return False"
   ]
  },
  {
   "cell_type": "code",
   "execution_count": null,
   "id": "d9468aa4",
   "metadata": {},
   "outputs": [],
   "source": [
    "check_even_list([1,2,3])"
   ]
  },
  {
   "cell_type": "code",
   "execution_count": null,
   "id": "816b03e4",
   "metadata": {},
   "outputs": [],
   "source": [
    "check_even_list([1,3,5])"
   ]
  },
  {
   "cell_type": "code",
   "execution_count": null,
   "id": "165ee170",
   "metadata": {},
   "outputs": [],
   "source": [
    "num_list=[1,2,3]\n",
    "for number in num_list:\n",
    "    print(number)\n",
    "    if number%2==0:\n",
    "        print(True)\n",
    "    else:\n",
    "        print(False)"
   ]
  },
  {
   "cell_type": "code",
   "execution_count": null,
   "id": "a12d5cf8",
   "metadata": {},
   "outputs": [],
   "source": [
    "def check_even_list(num_list):\n",
    "    for number in num_list:\n",
    "        if number %2==0:\n",
    "            return True\n",
    "        else:\n",
    "            pass\n",
    "    return False"
   ]
  },
  {
   "cell_type": "code",
   "execution_count": null,
   "id": "1b718978",
   "metadata": {},
   "outputs": [],
   "source": [
    "check_even_list([1,2,3])"
   ]
  },
  {
   "cell_type": "code",
   "execution_count": null,
   "id": "6ed3ad9b",
   "metadata": {},
   "outputs": [],
   "source": [
    "check_even_list([1,3,5])"
   ]
  },
  {
   "cell_type": "code",
   "execution_count": null,
   "id": "28a0f026",
   "metadata": {},
   "outputs": [],
   "source": [
    "def check_even_list(num_list):\n",
    "    \n",
    "    even_numbers = []\n",
    "    \n",
    "    # Go through each number\n",
    "    for number in num_list:\n",
    "        # Once we get a \"hit\" on an even number, we append the even number\n",
    "        if number % 2 == 0:\n",
    "            even_numbers.append(number)\n",
    "        # Don't do anything if its not even\n",
    "        else:\n",
    "            pass\n",
    "    # Notice the indentation! This ensures we run through the entire for loop    \n",
    "    return even_numbers"
   ]
  },
  {
   "cell_type": "code",
   "execution_count": null,
   "id": "fdd02186",
   "metadata": {},
   "outputs": [],
   "source": [
    "check_even_list([1,2,3,4,5,6])"
   ]
  },
  {
   "cell_type": "code",
   "execution_count": null,
   "id": "03919fcf",
   "metadata": {},
   "outputs": [],
   "source": [
    "check_even_list([1,3,5])"
   ]
  },
  {
   "cell_type": "code",
   "execution_count": null,
   "id": "6471edad",
   "metadata": {},
   "outputs": [],
   "source": [
    "def check_even_list(num_list):\n",
    "    even_numbers=[]\n",
    "    for number in num_list:\n",
    "        if number %2==0:\n",
    "            even_numbers.append(number)\n",
    "        else:\n",
    "            pass\n",
    "    return even_numbers"
   ]
  },
  {
   "cell_type": "code",
   "execution_count": null,
   "id": "0409ab22",
   "metadata": {},
   "outputs": [],
   "source": [
    "check_even_list([1,2,3,4,5])"
   ]
  },
  {
   "cell_type": "code",
   "execution_count": null,
   "id": "2a209a5e",
   "metadata": {},
   "outputs": [],
   "source": [
    "check_even_list([1,3,5])"
   ]
  },
  {
   "cell_type": "markdown",
   "id": "0e9fc930",
   "metadata": {},
   "source": [
    "## Returning Tuples for unpacking"
   ]
  },
  {
   "cell_type": "code",
   "execution_count": null,
   "id": "aff10de9",
   "metadata": {},
   "outputs": [],
   "source": [
    "stock_prices=[('AAPL',200),('GOOG',300),('MSFT',400)]"
   ]
  },
  {
   "cell_type": "code",
   "execution_count": null,
   "id": "7cc17e5c",
   "metadata": {},
   "outputs": [],
   "source": [
    "for item in stock_prices:\n",
    "    print(item)"
   ]
  },
  {
   "cell_type": "code",
   "execution_count": null,
   "id": "ba6d2834",
   "metadata": {},
   "outputs": [],
   "source": [
    "for stock,prices in stock_prices:\n",
    "    print(stock)"
   ]
  },
  {
   "cell_type": "code",
   "execution_count": null,
   "id": "d0a3d88b",
   "metadata": {},
   "outputs": [],
   "source": [
    "for stock,prices in stock_prices:\n",
    "    print(prices)"
   ]
  },
  {
   "cell_type": "code",
   "execution_count": null,
   "id": "a0aa4a5d",
   "metadata": {},
   "outputs": [],
   "source": [
    "work_hours=[('Abby',100),('Billy',400),('Cassie',800)]"
   ]
  },
  {
   "cell_type": "code",
   "execution_count": null,
   "id": "b485b4d2",
   "metadata": {},
   "outputs": [],
   "source": [
    "def employee_check(work_hours):\n",
    "    \n",
    "     # Set some max value to intially beat, like zero hours\n",
    "    current_max = 0\n",
    "    # Set some empty value before the loop\n",
    "    employee_of_month = ''\n",
    "    \n",
    "    for employee,hours in work_hours:\n",
    "        if hours > current_max:\n",
    "            current_max = hours\n",
    "            employee_of_month = employee\n",
    "        else:\n",
    "            pass\n",
    "    \n",
    "    # Notice the indentation here\n",
    "    return (employee_of_month,current_max)"
   ]
  },
  {
   "cell_type": "code",
   "execution_count": null,
   "id": "16bd95dc",
   "metadata": {},
   "outputs": [],
   "source": [
    "employee_check(work_hours)"
   ]
  },
  {
   "cell_type": "code",
   "execution_count": null,
   "id": "96c712de",
   "metadata": {},
   "outputs": [],
   "source": [
    "def employee_check(work_hours):\n",
    "    current_max=0\n",
    "    employee_of_month=''\n",
    "    for employee,hours in work_hours:\n",
    "        if hours>current_max:\n",
    "            current_max=hours\n",
    "            employee_of_month=employee\n",
    "        else:\n",
    "            pass\n",
    "    return (employee_of_month,current_max)"
   ]
  },
  {
   "cell_type": "code",
   "execution_count": null,
   "id": "f7a1ee49",
   "metadata": {},
   "outputs": [],
   "source": [
    "employee_check(work_hours)"
   ]
  },
  {
   "cell_type": "markdown",
   "id": "0864f656",
   "metadata": {},
   "source": [
    "### How to shuffle a list in Python"
   ]
  },
  {
   "cell_type": "code",
   "execution_count": null,
   "id": "31acaa9e",
   "metadata": {},
   "outputs": [],
   "source": [
    "example = [1,2,3,4,5]"
   ]
  },
  {
   "cell_type": "code",
   "execution_count": null,
   "id": "8b734069",
   "metadata": {},
   "outputs": [],
   "source": [
    "from random import shuffle"
   ]
  },
  {
   "cell_type": "code",
   "execution_count": null,
   "id": "45ca4df4",
   "metadata": {},
   "outputs": [],
   "source": [
    "# Note shuffle is in-place\n",
    "shuffle(example)"
   ]
  },
  {
   "cell_type": "code",
   "execution_count": null,
   "id": "510de741",
   "metadata": {},
   "outputs": [],
   "source": [
    "example"
   ]
  },
  {
   "cell_type": "markdown",
   "id": "449b0fd8",
   "metadata": {},
   "source": [
    "### Ok, let's create our simple game "
   ]
  },
  {
   "cell_type": "code",
   "execution_count": null,
   "id": "e1f8adbf",
   "metadata": {},
   "outputs": [],
   "source": [
    "my_list=['','0','']"
   ]
  },
  {
   "cell_type": "code",
   "execution_count": null,
   "id": "d6fadf49",
   "metadata": {},
   "outputs": [],
   "source": [
    "def shuffle_list(my_list):\n",
    "    #Take in list, and returned shuffle versioned\n",
    "    shuffle(my_list)\n",
    "    return my_list"
   ]
  },
  {
   "cell_type": "code",
   "execution_count": null,
   "id": "59992567",
   "metadata": {},
   "outputs": [],
   "source": [
    "my_list"
   ]
  },
  {
   "cell_type": "code",
   "execution_count": null,
   "id": "ba98f60d",
   "metadata": {},
   "outputs": [],
   "source": [
    "shuffle_list(my_list)"
   ]
  },
  {
   "cell_type": "code",
   "execution_count": null,
   "id": "86b89bf1",
   "metadata": {},
   "outputs": [],
   "source": [
    "def player_guess():\n",
    "    \n",
    "    guess = ''\n",
    "    \n",
    "    while guess not in ['0','1','2']:\n",
    "        \n",
    "        # Recall input() returns a string\n",
    "        guess = input(\"Pick a number: 0, 1, or 2:  \")\n",
    "    \n",
    "    return int(guess)"
   ]
  },
  {
   "cell_type": "code",
   "execution_count": null,
   "id": "5fd78cc5",
   "metadata": {},
   "outputs": [],
   "source": [
    "player_guess()"
   ]
  },
  {
   "cell_type": "markdown",
   "id": "b7efe081",
   "metadata": {},
   "source": [
    "Now we will check the user's guess. Notice we only print here, since we have no need to save a user's guess or the shuffled list."
   ]
  },
  {
   "cell_type": "code",
   "execution_count": null,
   "id": "106b8055",
   "metadata": {},
   "outputs": [],
   "source": [
    "def check_guess(mylist,guess):\n",
    "    if mylist[guess] == 'O':\n",
    "        print('Correct Guess!')\n",
    "    else:\n",
    "        print('Wrong! Better luck next time')\n",
    "        print(mylist)"
   ]
  },
  {
   "cell_type": "markdown",
   "id": "d5e3c12b",
   "metadata": {},
   "source": [
    "Now we create a little setup logic to run all the functions. Notice how they interact with each other!"
   ]
  },
  {
   "cell_type": "code",
   "execution_count": null,
   "id": "f2d1187e",
   "metadata": {},
   "outputs": [],
   "source": [
    "# Initial List\n",
    "mylist = [' ','O',' ']\n",
    "\n",
    "# Shuffle It\n",
    "mixedup_list = shuffle_list(mylist)\n",
    "\n",
    "# Get User's Guess\n",
    "guess = player_guess()\n",
    "\n",
    "# Check User's Guess\n",
    "#------------------------\n",
    "# Notice how this function takes in the input \n",
    "# based on the output of other functions!\n",
    "check_guess(mixedup_list,guess)"
   ]
  },
  {
   "cell_type": "markdown",
   "id": "29820c06",
   "metadata": {},
   "source": [
    "# Lambda Expressions, Map, and Filter"
   ]
  },
  {
   "cell_type": "markdown",
   "id": "b811cc44",
   "metadata": {},
   "source": [
    "### map function"
   ]
  },
  {
   "cell_type": "code",
   "execution_count": null,
   "id": "c86f8463",
   "metadata": {},
   "outputs": [],
   "source": [
    "def square(num):\n",
    "    return num**2"
   ]
  },
  {
   "cell_type": "code",
   "execution_count": null,
   "id": "2458dd19",
   "metadata": {},
   "outputs": [],
   "source": [
    "my_nums=[1,2,3,4,5]"
   ]
  },
  {
   "cell_type": "code",
   "execution_count": null,
   "id": "7d276603",
   "metadata": {},
   "outputs": [],
   "source": [
    "map(square,my_nums)"
   ]
  },
  {
   "cell_type": "code",
   "execution_count": null,
   "id": "0a5a3115",
   "metadata": {},
   "outputs": [],
   "source": [
    "# To get the results, either iterate through map() \n",
    "# or just cast to a list\n",
    "list(map(square,my_nums))"
   ]
  },
  {
   "cell_type": "markdown",
   "id": "d31a434f",
   "metadata": {},
   "source": [
    "The functions can also be more complex"
   ]
  },
  {
   "cell_type": "code",
   "execution_count": null,
   "id": "1e7de4f0",
   "metadata": {},
   "outputs": [],
   "source": [
    "def splicer(mystring):\n",
    "    if len(mystring)%2==0:\n",
    "        return 'even'\n",
    "    else:\n",
    "        return mystring[0]"
   ]
  },
  {
   "cell_type": "code",
   "execution_count": null,
   "id": "27aa0ed0",
   "metadata": {},
   "outputs": [],
   "source": [
    "mynames=['ved','parul','prachi','Ami','Dixith']"
   ]
  },
  {
   "cell_type": "code",
   "execution_count": null,
   "id": "ea781f01",
   "metadata": {},
   "outputs": [],
   "source": [
    "list(map(splicer,mynames))"
   ]
  },
  {
   "cell_type": "code",
   "execution_count": null,
   "id": "0335abdb",
   "metadata": {},
   "outputs": [],
   "source": [
    "splicer('john')"
   ]
  },
  {
   "cell_type": "markdown",
   "id": "b4adb5c9",
   "metadata": {},
   "source": [
    "### filter function"
   ]
  },
  {
   "cell_type": "code",
   "execution_count": null,
   "id": "145263ac",
   "metadata": {},
   "outputs": [],
   "source": [
    "def check_even(num):\n",
    "    return num%2==0"
   ]
  },
  {
   "cell_type": "code",
   "execution_count": null,
   "id": "29ed9bd2",
   "metadata": {},
   "outputs": [],
   "source": [
    "nums=[0,1,2,3,4,5,6,7,8,9,10]"
   ]
  },
  {
   "cell_type": "code",
   "execution_count": null,
   "id": "49ee5302",
   "metadata": {},
   "outputs": [],
   "source": [
    "filter(check_even,nums)"
   ]
  },
  {
   "cell_type": "code",
   "execution_count": null,
   "id": "d468c7bc",
   "metadata": {},
   "outputs": [],
   "source": [
    "list(filter(check_even,nums))"
   ]
  },
  {
   "cell_type": "markdown",
   "id": "759a5233",
   "metadata": {},
   "source": [
    "### lambda expression"
   ]
  },
  {
   "cell_type": "code",
   "execution_count": null,
   "id": "7c439e27",
   "metadata": {},
   "outputs": [],
   "source": [
    "def square(num):\n",
    "    result=num**2\n",
    "    return result"
   ]
  },
  {
   "cell_type": "code",
   "execution_count": null,
   "id": "58f3280a",
   "metadata": {},
   "outputs": [],
   "source": [
    "square(5)"
   ]
  },
  {
   "cell_type": "markdown",
   "id": "9d40415f",
   "metadata": {},
   "source": [
    "We could simplify it:"
   ]
  },
  {
   "cell_type": "code",
   "execution_count": null,
   "id": "cadf7df6",
   "metadata": {},
   "outputs": [],
   "source": [
    "def square(num): return num**2"
   ]
  },
  {
   "cell_type": "code",
   "execution_count": null,
   "id": "d11132e7",
   "metadata": {},
   "outputs": [],
   "source": [
    "square(4)"
   ]
  },
  {
   "cell_type": "markdown",
   "id": "66ae5e8a",
   "metadata": {},
   "source": [
    "This is the form a function that a lambda expression intends to replicate. A lambda expression can then be written as:"
   ]
  },
  {
   "cell_type": "code",
   "execution_count": null,
   "id": "fb281808",
   "metadata": {},
   "outputs": [],
   "source": [
    "lambda num: num ** 2"
   ]
  },
  {
   "cell_type": "code",
   "execution_count": null,
   "id": "9bbc603d",
   "metadata": {},
   "outputs": [],
   "source": [
    "square = lambda num: num **2"
   ]
  },
  {
   "cell_type": "code",
   "execution_count": null,
   "id": "c5b5069e",
   "metadata": {},
   "outputs": [],
   "source": [
    "square(3)"
   ]
  },
  {
   "cell_type": "code",
   "execution_count": null,
   "id": "173885fe",
   "metadata": {},
   "outputs": [],
   "source": [
    "list(map(lambda num: num ** 2, my_nums))"
   ]
  },
  {
   "cell_type": "code",
   "execution_count": null,
   "id": "1e42d3f1",
   "metadata": {},
   "outputs": [],
   "source": [
    "list(filter(lambda n: n % 2 == 0,nums))"
   ]
  },
  {
   "cell_type": "markdown",
   "id": "7a186085",
   "metadata": {},
   "source": [
    "** Lambda expression for grabbing the first character of a string: **"
   ]
  },
  {
   "cell_type": "code",
   "execution_count": null,
   "id": "80061f91",
   "metadata": {},
   "outputs": [],
   "source": [
    "lambda s: s[0]"
   ]
  },
  {
   "cell_type": "code",
   "execution_count": null,
   "id": "4736d460",
   "metadata": {},
   "outputs": [],
   "source": [
    "mynames=['ved','parul','prachi','Ami','Dixith']\n",
    "list(map(lambda name:name[2],mynames))"
   ]
  },
  {
   "cell_type": "markdown",
   "id": "94930381",
   "metadata": {},
   "source": [
    "** Lambda expression for reversing a string: **"
   ]
  },
  {
   "cell_type": "code",
   "execution_count": null,
   "id": "0e48ef21",
   "metadata": {},
   "outputs": [],
   "source": [
    "lambda s: s[::-1]"
   ]
  },
  {
   "cell_type": "markdown",
   "id": "3c7d65b9",
   "metadata": {},
   "source": [
    "You can even pass in multiple arguments into a lambda expression. Again, keep in mind that not every function can be translated into a lambda expression."
   ]
  },
  {
   "cell_type": "code",
   "execution_count": null,
   "id": "3df5458f",
   "metadata": {},
   "outputs": [],
   "source": [
    "lambda x,y : x + y"
   ]
  },
  {
   "cell_type": "code",
   "execution_count": null,
   "id": "f5fe897b",
   "metadata": {},
   "outputs": [],
   "source": [
    "def add_num(x,y):\n",
    "    return x+y"
   ]
  },
  {
   "cell_type": "code",
   "execution_count": null,
   "id": "c4b58fea",
   "metadata": {},
   "outputs": [],
   "source": [
    "add_num(2,3)"
   ]
  },
  {
   "cell_type": "code",
   "execution_count": null,
   "id": "2bf01393",
   "metadata": {},
   "outputs": [],
   "source": [
    "num_list1=[1,2,3]\n",
    "num_list2=[2,3,4]\n",
    "num_list3=[3,4,5]\n",
    "list(map(lambda x,y,z : x+y+z, num_list1,num_list2,num_list3))"
   ]
  },
  {
   "cell_type": "markdown",
   "id": "fc95e5f5",
   "metadata": {},
   "source": [
    "You will find yourself using lambda expressions often with certain non-built-in libraries, for example the pandas library for data analysis works very well with lambda expressions."
   ]
  },
  {
   "cell_type": "markdown",
   "id": "b71cc8a8",
   "metadata": {},
   "source": [
    "# Nested Statements and Scope"
   ]
  },
  {
   "cell_type": "code",
   "execution_count": null,
   "id": "7e9b7c02",
   "metadata": {},
   "outputs": [],
   "source": [
    "x = 25\n",
    "\n",
    "def printer():\n",
    "    x = 50\n",
    "    return x\n",
    "\n",
    "# print(x)\n",
    "# print(printer())"
   ]
  },
  {
   "cell_type": "code",
   "execution_count": null,
   "id": "d451b2c6",
   "metadata": {},
   "outputs": [],
   "source": [
    "print(x)"
   ]
  },
  {
   "cell_type": "code",
   "execution_count": null,
   "id": "771744c2",
   "metadata": {},
   "outputs": [],
   "source": [
    "print(printer())"
   ]
  },
  {
   "cell_type": "code",
   "execution_count": null,
   "id": "3b057b4e",
   "metadata": {},
   "outputs": [],
   "source": [
    "print(x)"
   ]
  },
  {
   "cell_type": "markdown",
   "id": "b5e91956",
   "metadata": {},
   "source": [
    "# Quick examples of LEGB\n",
    "### Local"
   ]
  },
  {
   "cell_type": "code",
   "execution_count": null,
   "id": "24a69a58",
   "metadata": {},
   "outputs": [],
   "source": [
    "# x is local here:\n",
    "f = lambda x:x**2"
   ]
  },
  {
   "cell_type": "markdown",
   "id": "82482472",
   "metadata": {},
   "source": [
    "### Enclosing function locals"
   ]
  },
  {
   "cell_type": "markdown",
   "id": "86458002",
   "metadata": {},
   "source": [
    "This occurs when we have a function inside a function (nested functions)"
   ]
  },
  {
   "cell_type": "code",
   "execution_count": null,
   "id": "3f768bbb",
   "metadata": {},
   "outputs": [],
   "source": [
    "name = 'This is a global name'\n",
    "\n",
    "def greet():\n",
    "    # Enclosing function\n",
    "    name = 'Sammy'\n",
    "    \n",
    "    def hello():\n",
    "        print('Hello '+name)\n",
    "    \n",
    "    hello()\n",
    "\n",
    "greet()"
   ]
  },
  {
   "cell_type": "code",
   "execution_count": null,
   "id": "488b9cc7",
   "metadata": {},
   "outputs": [],
   "source": [
    "name='This is a global name'\n",
    "def greet():\n",
    "    name= 'Dixith'\n",
    "    def hello():\n",
    "        print('Hello '+name)\n",
    "    hello()\n",
    "greet()"
   ]
  },
  {
   "cell_type": "markdown",
   "id": "0bede850",
   "metadata": {},
   "source": [
    "## Global"
   ]
  },
  {
   "cell_type": "code",
   "execution_count": null,
   "id": "3561e653",
   "metadata": {},
   "outputs": [],
   "source": [
    "print(name)"
   ]
  },
  {
   "cell_type": "markdown",
   "id": "35569a58",
   "metadata": {},
   "source": [
    "## Built-in"
   ]
  },
  {
   "cell_type": "code",
   "execution_count": null,
   "id": "1e8eceff",
   "metadata": {},
   "outputs": [],
   "source": [
    "len"
   ]
  },
  {
   "cell_type": "markdown",
   "id": "fced0e12",
   "metadata": {},
   "source": [
    "## Local Variables"
   ]
  },
  {
   "cell_type": "code",
   "execution_count": null,
   "id": "aaae2637",
   "metadata": {},
   "outputs": [],
   "source": [
    "x = 50\n",
    "\n",
    "def func(x):\n",
    "    print('x is', x)\n",
    "    x = 2\n",
    "    print('Changed local x to', x)\n",
    "\n",
    "func(x)\n",
    "print('x is still', x)"
   ]
  },
  {
   "cell_type": "markdown",
   "id": "ec68d1a0",
   "metadata": {},
   "source": [
    "## The global statement"
   ]
  },
  {
   "cell_type": "code",
   "execution_count": null,
   "id": "6650424a",
   "metadata": {},
   "outputs": [],
   "source": [
    "x = 50\n",
    "\n",
    "def func():\n",
    "    global x\n",
    "    print('This function is now using the global x!')\n",
    "    print('Because of global x is: ', x)\n",
    "    x = 2\n",
    "    print('Ran func(), changed global x to', x)\n",
    "\n",
    "print('Before calling func(), x is: ', x)\n",
    "func()\n",
    "print('Value of x (outside of func()) is: ', x)"
   ]
  },
  {
   "cell_type": "markdown",
   "id": "761c90dd",
   "metadata": {},
   "source": [
    "## *args and **kwargs"
   ]
  },
  {
   "cell_type": "code",
   "execution_count": null,
   "id": "ff7dbc93",
   "metadata": {},
   "outputs": [],
   "source": [
    "def myfunc(a,b):\n",
    "    return sum((a,b))*.05\n",
    "myfunc(40,60)"
   ]
  },
  {
   "cell_type": "code",
   "execution_count": null,
   "id": "02bea94d",
   "metadata": {},
   "outputs": [],
   "source": [
    "myfunc(40,30,30)"
   ]
  },
  {
   "cell_type": "markdown",
   "id": "219d9c8d",
   "metadata": {},
   "source": [
    "### *kwargs"
   ]
  },
  {
   "cell_type": "code",
   "execution_count": null,
   "id": "22dd121b",
   "metadata": {},
   "outputs": [],
   "source": [
    "def myfunc(a=0,b=0,c=0,d=0,e=0):\n",
    "    return sum((a,b,c,d,e))*.05\n",
    "\n",
    "myfunc(40,60,20)"
   ]
  },
  {
   "cell_type": "markdown",
   "id": "c7b3312b",
   "metadata": {},
   "source": [
    "### *args"
   ]
  },
  {
   "cell_type": "code",
   "execution_count": null,
   "id": "cef92c5e",
   "metadata": {},
   "outputs": [],
   "source": [
    "def myfunc(*args):\n",
    "    return sum(args)*.05\n",
    "\n",
    "myfunc(40,60,20,30)"
   ]
  },
  {
   "cell_type": "code",
   "execution_count": null,
   "id": "86d09f2f",
   "metadata": {},
   "outputs": [],
   "source": [
    "def myfunc(*spam):\n",
    "    return sum(spam)*.05\n",
    "\n",
    "myfunc(40,60,20,30)"
   ]
  },
  {
   "cell_type": "markdown",
   "id": "8751c8dd",
   "metadata": {},
   "source": [
    "### **kwargs"
   ]
  },
  {
   "cell_type": "code",
   "execution_count": null,
   "id": "79c1fb3e",
   "metadata": {},
   "outputs": [],
   "source": [
    "my_dict={'Juice':'Apple',\n",
    "         'Fruit':'Orange',\n",
    "         'Soda':'coke',\n",
    "         'Food':'Pizza'}"
   ]
  },
  {
   "cell_type": "code",
   "execution_count": null,
   "id": "15f761d8",
   "metadata": {},
   "outputs": [],
   "source": [
    "def myfunc(**kwargs):\n",
    "    if 'fruit' in kwargs:\n",
    "        print(f\"My favorite fruit is {kwargs['fruit']}\")  # review String Formatting and f-strings if this syntax is unfamiliar\n",
    "    elif 'Soda' in kwargs:\n",
    "        print(f\"My favorite Soda is {kwargs['Soda']}\")\n",
    "    else:\n",
    "        print(\"I don't like fruit\")\n",
    "        \n",
    "myfunc(fruit='pineapple')"
   ]
  },
  {
   "cell_type": "code",
   "execution_count": null,
   "id": "1fee3095",
   "metadata": {},
   "outputs": [],
   "source": [
    "myfunc(**my_dict)"
   ]
  },
  {
   "cell_type": "markdown",
   "id": "8acc3b00",
   "metadata": {},
   "source": [
    "###  **args and ***kwargs combined"
   ]
  },
  {
   "cell_type": "code",
   "execution_count": null,
   "id": "ca51b0fb",
   "metadata": {},
   "outputs": [],
   "source": [
    "def myfunc(*args, **kwargs):\n",
    "    if 'fruit' and 'juice' in kwargs:\n",
    "        print(f\"I like {' and '.join(args)} and my favorite fruit is {kwargs['fruit']}\")\n",
    "        print(f\"May I have some {kwargs['juice']} juice?\")\n",
    "    else:\n",
    "        pass\n",
    "        \n",
    "myfunc('eggs','spam','Vegetables','Bread',fruit='cherries',juice='orange')"
   ]
  },
  {
   "cell_type": "code",
   "execution_count": null,
   "id": "f0fd8a0e",
   "metadata": {},
   "outputs": [],
   "source": [
    "my_dict={'Juice':'Apple',\n",
    "         'Fruit':'Orange',\n",
    "         'Soda':'coke',\n",
    "         'Food':'Pizza'}\n",
    "my_list=['eggs','spam','Vegetables','Bread']"
   ]
  },
  {
   "cell_type": "code",
   "execution_count": null,
   "id": "2e594315",
   "metadata": {},
   "outputs": [],
   "source": [
    "myfunc(*my_list,**my_dict)"
   ]
  },
  {
   "cell_type": "markdown",
   "id": "9e62df0a",
   "metadata": {},
   "source": [
    "## Numpy"
   ]
  },
  {
   "cell_type": "code",
   "execution_count": null,
   "id": "6cabf571",
   "metadata": {},
   "outputs": [],
   "source": [
    "import numpy as np"
   ]
  },
  {
   "cell_type": "code",
   "execution_count": null,
   "id": "7ada1de9",
   "metadata": {},
   "outputs": [],
   "source": [
    "arr=np.array([[1,2,3],[4,2,5]],dtype='int64')"
   ]
  },
  {
   "cell_type": "code",
   "execution_count": null,
   "id": "7dee0153",
   "metadata": {},
   "outputs": [],
   "source": [
    "arr"
   ]
  },
  {
   "cell_type": "code",
   "execution_count": null,
   "id": "ffed5d79",
   "metadata": {},
   "outputs": [],
   "source": [
    "type(arr)"
   ]
  },
  {
   "cell_type": "code",
   "execution_count": null,
   "id": "a1aca1f7",
   "metadata": {},
   "outputs": [],
   "source": [
    "arr.shape"
   ]
  },
  {
   "cell_type": "code",
   "execution_count": null,
   "id": "2c153892",
   "metadata": {},
   "outputs": [],
   "source": [
    "arr.dtype"
   ]
  },
  {
   "cell_type": "code",
   "execution_count": null,
   "id": "5acda928",
   "metadata": {},
   "outputs": [],
   "source": [
    "arr.ndim"
   ]
  },
  {
   "cell_type": "markdown",
   "id": "a4c492dc",
   "metadata": {},
   "source": [
    "## Array creation"
   ]
  },
  {
   "cell_type": "code",
   "execution_count": null,
   "id": "7c59da57",
   "metadata": {},
   "outputs": [],
   "source": [
    "mylist=[[1,2,3,4],\n",
    "        [5,6,7,8] ]"
   ]
  },
  {
   "cell_type": "code",
   "execution_count": null,
   "id": "d4f97977",
   "metadata": {},
   "outputs": [],
   "source": [
    "myarr=np.array(mylist,dtype='float')"
   ]
  },
  {
   "cell_type": "code",
   "execution_count": null,
   "id": "97b1fdf1",
   "metadata": {},
   "outputs": [],
   "source": [
    "myarr"
   ]
  },
  {
   "cell_type": "code",
   "execution_count": null,
   "id": "3f7ab2f8",
   "metadata": {},
   "outputs": [],
   "source": [
    "myarr=np.array(mylist,dtype='int')"
   ]
  },
  {
   "cell_type": "code",
   "execution_count": null,
   "id": "14a5126c",
   "metadata": {},
   "outputs": [],
   "source": [
    "myarr"
   ]
  },
  {
   "cell_type": "code",
   "execution_count": null,
   "id": "8346821e",
   "metadata": {},
   "outputs": [],
   "source": [
    "# create an array of size 3x4 filled with os\n",
    "c=np.zeros((3,4),dtype='int')"
   ]
  },
  {
   "cell_type": "code",
   "execution_count": null,
   "id": "1871f1bb",
   "metadata": {},
   "outputs": [],
   "source": [
    "c"
   ]
  },
  {
   "cell_type": "code",
   "execution_count": null,
   "id": "7e01a974",
   "metadata": {},
   "outputs": [],
   "source": [
    "c=np.ones((3,4),dtype='int')"
   ]
  },
  {
   "cell_type": "code",
   "execution_count": null,
   "id": "40cc943d",
   "metadata": {},
   "outputs": [],
   "source": [
    "c"
   ]
  },
  {
   "cell_type": "code",
   "execution_count": null,
   "id": "1c3feffb",
   "metadata": {},
   "outputs": [],
   "source": [
    "d=np.full((3,3),6+2j,dtype='complex')"
   ]
  },
  {
   "cell_type": "code",
   "execution_count": null,
   "id": "3f634cc6",
   "metadata": {},
   "outputs": [],
   "source": [
    "d"
   ]
  },
  {
   "cell_type": "code",
   "execution_count": null,
   "id": "de2c9b82",
   "metadata": {},
   "outputs": [],
   "source": [
    "e=np.random.random((2,2))"
   ]
  },
  {
   "cell_type": "code",
   "execution_count": null,
   "id": "90312728",
   "metadata": {},
   "outputs": [],
   "source": [
    "e"
   ]
  },
  {
   "cell_type": "code",
   "execution_count": null,
   "id": "be5e2afd",
   "metadata": {},
   "outputs": [],
   "source": [
    "# create a sequence of inegers from 0 to 30 with steps of 5\n",
    "f=np.arange(0,30,5)"
   ]
  },
  {
   "cell_type": "code",
   "execution_count": null,
   "id": "12576be2",
   "metadata": {},
   "outputs": [],
   "source": [
    "f"
   ]
  },
  {
   "cell_type": "code",
   "execution_count": null,
   "id": "3e126bcf",
   "metadata": {},
   "outputs": [],
   "source": [
    "# create a sequence of 10 values in range 0 to 5\n",
    "g = np.linspace(1, 10, 3)"
   ]
  },
  {
   "cell_type": "code",
   "execution_count": null,
   "id": "2715949c",
   "metadata": {},
   "outputs": [],
   "source": [
    "g"
   ]
  },
  {
   "cell_type": "code",
   "execution_count": null,
   "id": "7a331615",
   "metadata": {},
   "outputs": [],
   "source": [
    "# sequence of 10 random integers in range 0 to 10\n",
    "h = np.random.randint(0, 10, (3,4))"
   ]
  },
  {
   "cell_type": "code",
   "execution_count": null,
   "id": "3d44ee24",
   "metadata": {},
   "outputs": [],
   "source": [
    "h"
   ]
  },
  {
   "cell_type": "code",
   "execution_count": null,
   "id": "32a8cf74",
   "metadata": {},
   "outputs": [],
   "source": [
    "# reshaping 3X4 array to 2X2X3 array\n",
    "arr = np.array([[1, 2, 3, 4],\n",
    "                [5, 2, 4, 2],\n",
    "                [1, 2, 0, 1]])\n",
    "\n",
    "newarr = arr.reshape(2,2,3)"
   ]
  },
  {
   "cell_type": "code",
   "execution_count": null,
   "id": "fb584eff",
   "metadata": {},
   "outputs": [],
   "source": [
    "newarr"
   ]
  },
  {
   "cell_type": "code",
   "execution_count": null,
   "id": "1a6435bd",
   "metadata": {},
   "outputs": [],
   "source": [
    "newarr.shape"
   ]
  },
  {
   "cell_type": "code",
   "execution_count": null,
   "id": "cde733ab",
   "metadata": {},
   "outputs": [],
   "source": [
    "arr = np.array([[1, 2, 3], [4, 5, 6]])"
   ]
  },
  {
   "cell_type": "code",
   "execution_count": null,
   "id": "a6b7f738",
   "metadata": {},
   "outputs": [],
   "source": [
    "arr"
   ]
  },
  {
   "cell_type": "code",
   "execution_count": null,
   "id": "d6d016de",
   "metadata": {},
   "outputs": [],
   "source": [
    "arr.shape"
   ]
  },
  {
   "cell_type": "code",
   "execution_count": null,
   "id": "4b2e2e1c",
   "metadata": {},
   "outputs": [],
   "source": [
    "arr.T"
   ]
  },
  {
   "cell_type": "code",
   "execution_count": null,
   "id": "d4c098d7",
   "metadata": {},
   "outputs": [],
   "source": [
    "len(arr)"
   ]
  },
  {
   "cell_type": "code",
   "execution_count": null,
   "id": "4042655f",
   "metadata": {},
   "outputs": [],
   "source": [
    "arr.flatten?"
   ]
  },
  {
   "cell_type": "code",
   "execution_count": null,
   "id": "478594c1",
   "metadata": {},
   "outputs": [],
   "source": [
    "flarr = arr.flatten(order='K')"
   ]
  },
  {
   "cell_type": "code",
   "execution_count": null,
   "id": "f71c05d5",
   "metadata": {},
   "outputs": [],
   "source": [
    "flarr"
   ]
  },
  {
   "cell_type": "code",
   "execution_count": null,
   "id": "6beb5286",
   "metadata": {},
   "outputs": [],
   "source": [
    "len(flarr)"
   ]
  },
  {
   "cell_type": "code",
   "execution_count": null,
   "id": "46d302b9",
   "metadata": {},
   "outputs": [],
   "source": [
    "flarr.shape \n",
    "#(n,) --> 1 dimension and have n elements"
   ]
  },
  {
   "cell_type": "code",
   "execution_count": null,
   "id": "672b235a",
   "metadata": {},
   "outputs": [],
   "source": [
    "flarr_T = flarr.T"
   ]
  },
  {
   "cell_type": "code",
   "execution_count": null,
   "id": "b70f44c4",
   "metadata": {},
   "outputs": [],
   "source": [
    "flarr_T"
   ]
  },
  {
   "cell_type": "code",
   "execution_count": null,
   "id": "1a521c11",
   "metadata": {},
   "outputs": [],
   "source": [
    "flarr_T.shape"
   ]
  },
  {
   "cell_type": "code",
   "execution_count": null,
   "id": "037c00e3",
   "metadata": {},
   "outputs": [],
   "source": [
    "flarr.ndim"
   ]
  },
  {
   "cell_type": "code",
   "execution_count": null,
   "id": "056d99fa",
   "metadata": {},
   "outputs": [],
   "source": [
    "# an exemplar array\n",
    "arr = np.array([[-1, 2, 0, 4],\n",
    "                [4, -0.5, 6, 0],\n",
    "                [2.6, 0, 7, 8],\n",
    "                [3, -7, 4, 2.0]])"
   ]
  },
  {
   "cell_type": "code",
   "execution_count": null,
   "id": "5492f9e1",
   "metadata": {},
   "outputs": [],
   "source": [
    "arr.shape"
   ]
  },
  {
   "cell_type": "code",
   "execution_count": null,
   "id": "038a036a",
   "metadata": {},
   "outputs": [],
   "source": [
    "arr.ndim"
   ]
  },
  {
   "cell_type": "code",
   "execution_count": null,
   "id": "ad76b689",
   "metadata": {},
   "outputs": [],
   "source": [
    "temp = arr[:3 , :]"
   ]
  },
  {
   "cell_type": "code",
   "execution_count": null,
   "id": "db259aba",
   "metadata": {},
   "outputs": [],
   "source": [
    "temp"
   ]
  },
  {
   "cell_type": "code",
   "execution_count": null,
   "id": "4dc03603",
   "metadata": {},
   "outputs": [],
   "source": [
    "arr"
   ]
  },
  {
   "cell_type": "code",
   "execution_count": null,
   "id": "380b44e2",
   "metadata": {},
   "outputs": [],
   "source": [
    "temp = arr[[0, 1, 2, 3], \n",
    "           [3, 2, 1, 0]]"
   ]
  },
  {
   "cell_type": "code",
   "execution_count": null,
   "id": "b006a4e3",
   "metadata": {},
   "outputs": [],
   "source": [
    "temp"
   ]
  },
  {
   "cell_type": "code",
   "execution_count": null,
   "id": "f398f364",
   "metadata": {},
   "outputs": [],
   "source": [
    "cond = arr > 0"
   ]
  },
  {
   "cell_type": "code",
   "execution_count": null,
   "id": "976abda6",
   "metadata": {},
   "outputs": [],
   "source": [
    "cond"
   ]
  },
  {
   "cell_type": "code",
   "execution_count": null,
   "id": "6afdb87d",
   "metadata": {},
   "outputs": [],
   "source": [
    "# array elements which satisfy the condition\n",
    "temp = arr[cond]"
   ]
  },
  {
   "cell_type": "code",
   "execution_count": null,
   "id": "6ffdf095",
   "metadata": {},
   "outputs": [],
   "source": [
    "temp"
   ]
  },
  {
   "cell_type": "code",
   "execution_count": null,
   "id": "bf08b827",
   "metadata": {},
   "outputs": [],
   "source": [
    "a = np.array([1, 2, 5, 3])"
   ]
  },
  {
   "cell_type": "code",
   "execution_count": null,
   "id": "20f06705",
   "metadata": {},
   "outputs": [],
   "source": [
    "# add 1 to every element\n",
    "a+1"
   ]
  },
  {
   "cell_type": "code",
   "execution_count": null,
   "id": "87d7c704",
   "metadata": {},
   "outputs": [],
   "source": [
    "# subtract 3 from each element\n",
    "a-3"
   ]
  },
  {
   "cell_type": "code",
   "execution_count": null,
   "id": "502f5f36",
   "metadata": {},
   "outputs": [],
   "source": [
    "# multiply each element by 10\n",
    "a*10"
   ]
  },
  {
   "cell_type": "code",
   "execution_count": null,
   "id": "6fb94c9b",
   "metadata": {},
   "outputs": [],
   "source": [
    "# square each element\n",
    "a**2"
   ]
  },
  {
   "cell_type": "code",
   "execution_count": null,
   "id": "affdfca4",
   "metadata": {},
   "outputs": [],
   "source": [
    "# modify existing array\n",
    "a *= 2"
   ]
  },
  {
   "cell_type": "code",
   "execution_count": null,
   "id": "a1268720",
   "metadata": {},
   "outputs": [],
   "source": [
    "a"
   ]
  },
  {
   "cell_type": "code",
   "execution_count": null,
   "id": "a3105ad3",
   "metadata": {},
   "outputs": [],
   "source": [
    "# sample array\n",
    "a = np.array([[1, 2, 3], [3, 4, 5], [9, 6, 0]])"
   ]
  },
  {
   "cell_type": "code",
   "execution_count": null,
   "id": "fdf0e64b",
   "metadata": {},
   "outputs": [],
   "source": [
    "a"
   ]
  },
  {
   "cell_type": "code",
   "execution_count": null,
   "id": "44a24310",
   "metadata": {},
   "outputs": [],
   "source": [
    "# transpose of array\n",
    "a.T"
   ]
  },
  {
   "cell_type": "code",
   "execution_count": null,
   "id": "5d3e200f",
   "metadata": {},
   "outputs": [],
   "source": [
    "arr = np.array([[1, 5, 6], \n",
    "                [4, 7, 2], \n",
    "                [3, 1, 9]])"
   ]
  },
  {
   "cell_type": "code",
   "execution_count": null,
   "id": "71e9ccd9",
   "metadata": {},
   "outputs": [],
   "source": [
    "# maximum element of array\n",
    "arr.max()"
   ]
  },
  {
   "cell_type": "code",
   "execution_count": null,
   "id": "41a00657",
   "metadata": {},
   "outputs": [],
   "source": [
    "# row-wise maximum elements\n",
    "arr.max(axis=1)"
   ]
  },
  {
   "cell_type": "code",
   "execution_count": null,
   "id": "5094e948",
   "metadata": {},
   "outputs": [],
   "source": [
    "# column wise minimum elements\n",
    "arr.min(axis=0)"
   ]
  },
  {
   "cell_type": "code",
   "execution_count": null,
   "id": "c6c5eeab",
   "metadata": {},
   "outputs": [],
   "source": [
    "# sum of all array elements\n",
    "arr.sum()"
   ]
  },
  {
   "cell_type": "code",
   "execution_count": null,
   "id": "04454d5f",
   "metadata": {},
   "outputs": [],
   "source": [
    "# sum of each row\n",
    "arr.sum(axis=1)"
   ]
  },
  {
   "cell_type": "code",
   "execution_count": null,
   "id": "e00d5732",
   "metadata": {},
   "outputs": [],
   "source": [
    "# cumulative sum along each row\n",
    "arr.cumsum(axis=1)"
   ]
  },
  {
   "cell_type": "code",
   "execution_count": null,
   "id": "b9e339b0",
   "metadata": {},
   "outputs": [],
   "source": [
    "a = np.array([[1, 2], \n",
    "              [3, 4]])\n",
    "b = np.array([[4, 3], \n",
    "              [2, 1]])"
   ]
  },
  {
   "cell_type": "code",
   "execution_count": null,
   "id": "c2b7493a",
   "metadata": {},
   "outputs": [],
   "source": [
    "# sum of arrays\n",
    "a + b"
   ]
  },
  {
   "cell_type": "code",
   "execution_count": null,
   "id": "5d63e474",
   "metadata": {},
   "outputs": [],
   "source": [
    "# multiply arrays (elementwise multiplication)\n",
    "a*b"
   ]
  },
  {
   "cell_type": "code",
   "execution_count": null,
   "id": "77a9b7fd",
   "metadata": {},
   "outputs": [],
   "source": [
    "# matrix multiplication\n",
    "a.dot(b)"
   ]
  },
  {
   "cell_type": "code",
   "execution_count": null,
   "id": "4db2dc4e",
   "metadata": {},
   "outputs": [],
   "source": [
    "np.cross(a,b)"
   ]
  },
  {
   "cell_type": "code",
   "execution_count": null,
   "id": "db79a807",
   "metadata": {},
   "outputs": [],
   "source": [
    "a = np.array([0, np.pi/2, np.pi])"
   ]
  },
  {
   "cell_type": "code",
   "execution_count": null,
   "id": "a7b0dc5b",
   "metadata": {},
   "outputs": [],
   "source": [
    "a"
   ]
  },
  {
   "cell_type": "code",
   "execution_count": null,
   "id": "933b9f98",
   "metadata": {},
   "outputs": [],
   "source": [
    "np.sin(a)"
   ]
  },
  {
   "cell_type": "code",
   "execution_count": null,
   "id": "0b5aa65e",
   "metadata": {},
   "outputs": [],
   "source": [
    "np.exp(a)"
   ]
  },
  {
   "cell_type": "code",
   "execution_count": null,
   "id": "26a216a5",
   "metadata": {},
   "outputs": [],
   "source": [
    "np.sqrt(a)"
   ]
  },
  {
   "cell_type": "code",
   "execution_count": null,
   "id": "aaac1571",
   "metadata": {},
   "outputs": [],
   "source": [
    "a = np.array([[1, 4, 2],\n",
    "              [3, 4, 6],\n",
    "              [0, -1, 5]])"
   ]
  },
  {
   "cell_type": "code",
   "execution_count": null,
   "id": "604ab0ff",
   "metadata": {},
   "outputs": [],
   "source": [
    "# array elements in sorted order\n",
    "np.sort(a, axis=None)"
   ]
  },
  {
   "cell_type": "code",
   "execution_count": null,
   "id": "8628d258",
   "metadata": {},
   "outputs": [],
   "source": [
    "# sort array row wise\n",
    "np.sort(a, axis=1)"
   ]
  },
  {
   "cell_type": "code",
   "execution_count": null,
   "id": "f85433bf",
   "metadata": {},
   "outputs": [],
   "source": [
    "np.sort?"
   ]
  },
  {
   "cell_type": "code",
   "execution_count": null,
   "id": "e53994af",
   "metadata": {},
   "outputs": [],
   "source": [
    "# specify sort algorithm\n",
    "np.sort(a, axis = 0, kind = 'mergesort')"
   ]
  },
  {
   "cell_type": "code",
   "execution_count": null,
   "id": "c1c8be5e",
   "metadata": {},
   "outputs": [],
   "source": [
    "a = np.array([[1, 2],\n",
    "              [3, 4]])\n",
    "\n",
    "b = np.array([[5, 6],\n",
    "              [7, 8]])"
   ]
  },
  {
   "cell_type": "code",
   "execution_count": null,
   "id": "2cd9f2b3",
   "metadata": {},
   "outputs": [],
   "source": [
    "# vertical stacking\n",
    "np.vstack((a, b))"
   ]
  },
  {
   "cell_type": "code",
   "execution_count": null,
   "id": "2d322a5d",
   "metadata": {},
   "outputs": [],
   "source": [
    "# horizontal stacking\n",
    "np.hstack((a, b))"
   ]
  },
  {
   "cell_type": "code",
   "execution_count": null,
   "id": "97c6ba06",
   "metadata": {},
   "outputs": [],
   "source": [
    "# new array\n",
    "c = [5, 6]"
   ]
  },
  {
   "cell_type": "code",
   "execution_count": null,
   "id": "a4922cf2",
   "metadata": {},
   "outputs": [],
   "source": [
    "# stacking array c as a column to array a\n",
    "np.column_stack((a, c))"
   ]
  },
  {
   "cell_type": "code",
   "execution_count": null,
   "id": "c20ced26",
   "metadata": {},
   "outputs": [],
   "source": [
    "# stacking array c as a row to array a\n",
    "np.row_stack((a, c))"
   ]
  },
  {
   "cell_type": "code",
   "execution_count": null,
   "id": "3fd41c30",
   "metadata": {},
   "outputs": [],
   "source": [
    "# concatenation method\n",
    "np.concatenate((a,b),axis=1)"
   ]
  },
  {
   "cell_type": "code",
   "execution_count": null,
   "id": "3cb8bda5",
   "metadata": {},
   "outputs": [],
   "source": [
    "a = np.array([[1, 3, 5, 7, 9, 11],\n",
    "              [2, 4, 6, 8, 10, 12]])"
   ]
  },
  {
   "cell_type": "code",
   "execution_count": null,
   "id": "63469cc2",
   "metadata": {},
   "outputs": [],
   "source": [
    "np.hsplit?"
   ]
  },
  {
   "cell_type": "code",
   "execution_count": null,
   "id": "a64e46ba",
   "metadata": {},
   "outputs": [],
   "source": [
    "# horizontal splitting in 2 parts --> column wise\n",
    "np.hsplit(a, 2)"
   ]
  },
  {
   "cell_type": "code",
   "execution_count": null,
   "id": "fa9f7f18",
   "metadata": {},
   "outputs": [],
   "source": [
    "# vertical splitting in 2 parts --> row wise\n",
    "np.vsplit(a, 2)"
   ]
  },
  {
   "cell_type": "code",
   "execution_count": null,
   "id": "21e14e08",
   "metadata": {},
   "outputs": [],
   "source": [
    "a = np.array([1.0, 2.0, 3.0])"
   ]
  },
  {
   "cell_type": "code",
   "execution_count": null,
   "id": "d6b333ec",
   "metadata": {},
   "outputs": [],
   "source": [
    "b = [2.0, 2.0]"
   ]
  },
  {
   "cell_type": "code",
   "execution_count": null,
   "id": "10487bdf",
   "metadata": {},
   "outputs": [],
   "source": [
    "b = np.array([2.0])"
   ]
  },
  {
   "cell_type": "code",
   "execution_count": null,
   "id": "c54af712",
   "metadata": {},
   "outputs": [],
   "source": [
    "a*b"
   ]
  },
  {
   "cell_type": "code",
   "execution_count": null,
   "id": "4a0d82d1",
   "metadata": {},
   "outputs": [],
   "source": [
    "a = np.array([0.0, 10.0, 20.0, 30.0])\n",
    "b = np.array([0.0, 1.0, 2.0])"
   ]
  },
  {
   "cell_type": "code",
   "execution_count": null,
   "id": "900b63e0",
   "metadata": {},
   "outputs": [],
   "source": [
    "a.shape,a.ndim"
   ]
  },
  {
   "cell_type": "code",
   "execution_count": null,
   "id": "240d0f1c",
   "metadata": {},
   "outputs": [],
   "source": [
    "a"
   ]
  },
  {
   "cell_type": "code",
   "execution_count": null,
   "id": "b9d2c516",
   "metadata": {},
   "outputs": [],
   "source": [
    "np.reshape(a,(4,-1)) # reshape -1 mean 1 columns"
   ]
  },
  {
   "cell_type": "code",
   "execution_count": null,
   "id": "8706477f",
   "metadata": {},
   "outputs": [],
   "source": [
    "a"
   ]
  },
  {
   "cell_type": "code",
   "execution_count": null,
   "id": "986c7f08",
   "metadata": {},
   "outputs": [],
   "source": [
    "a[:, np.newaxis] "
   ]
  },
  {
   "cell_type": "code",
   "execution_count": null,
   "id": "027b45b8",
   "metadata": {},
   "outputs": [],
   "source": [
    "b.shape"
   ]
  },
  {
   "cell_type": "code",
   "execution_count": null,
   "id": "84bb91ad",
   "metadata": {},
   "outputs": [],
   "source": [
    "b.shape,b.ndim,b.dtype"
   ]
  },
  {
   "cell_type": "code",
   "execution_count": null,
   "id": "de98ea1b",
   "metadata": {},
   "outputs": [],
   "source": [
    "a.shape"
   ]
  },
  {
   "cell_type": "code",
   "execution_count": null,
   "id": "e646c0f1",
   "metadata": {},
   "outputs": [],
   "source": [
    "a[:, np.newaxis] + b"
   ]
  },
  {
   "cell_type": "code",
   "execution_count": null,
   "id": "ea3b5772",
   "metadata": {},
   "outputs": [],
   "source": [
    "a.reshape(2,2) * b"
   ]
  },
  {
   "cell_type": "code",
   "execution_count": null,
   "id": "f464f142",
   "metadata": {},
   "outputs": [],
   "source": [
    "c = np.random.randint(1,9,(7,1,6,1))"
   ]
  },
  {
   "cell_type": "code",
   "execution_count": null,
   "id": "50e3e138",
   "metadata": {},
   "outputs": [],
   "source": [
    "d = np.random.randint(1,2,(3,1,5))"
   ]
  },
  {
   "cell_type": "code",
   "execution_count": null,
   "id": "47435268",
   "metadata": {},
   "outputs": [],
   "source": [
    "d"
   ]
  },
  {
   "cell_type": "code",
   "execution_count": null,
   "id": "8396694f",
   "metadata": {},
   "outputs": [],
   "source": [
    "e = c+d"
   ]
  },
  {
   "cell_type": "code",
   "execution_count": null,
   "id": "88d3d3fa",
   "metadata": {},
   "outputs": [],
   "source": [
    "e"
   ]
  },
  {
   "cell_type": "code",
   "execution_count": null,
   "id": "a4600131",
   "metadata": {},
   "outputs": [],
   "source": [
    "# coefficients\n",
    "a = np.array([[1, 2], [3, 4]])\n",
    "# constants\n",
    "b = np.array([8, 18])\n",
    "\n",
    "np.linalg.solve(a, b)"
   ]
  },
  {
   "cell_type": "code",
   "execution_count": null,
   "id": "2cf6d5b0",
   "metadata": {},
   "outputs": [],
   "source": [
    "A = np.array([[6, 1, 1],\n",
    "              [4, -2, 5],\n",
    "              [2, 8, 7]])"
   ]
  },
  {
   "cell_type": "code",
   "execution_count": null,
   "id": "401f6b78",
   "metadata": {},
   "outputs": [],
   "source": [
    "np.append(np.array([[1, 2, 3], [4, 5, 6]]), np.array([[7, 8, 9]]), axis=0)"
   ]
  },
  {
   "cell_type": "code",
   "execution_count": null,
   "id": "5e67d09f",
   "metadata": {},
   "outputs": [],
   "source": [
    "np.append(A,np.array([[1,2,3]]),axis=0)"
   ]
  },
  {
   "cell_type": "code",
   "execution_count": null,
   "id": "a7a6faf7",
   "metadata": {},
   "outputs": [],
   "source": [
    "# rank of matrix\n",
    "np.linalg.matrix_rank(A)"
   ]
  },
  {
   "cell_type": "code",
   "execution_count": null,
   "id": "4e8c6d34",
   "metadata": {},
   "outputs": [],
   "source": [
    "# trace of matrix\n",
    "np.trace(A)"
   ]
  },
  {
   "cell_type": "code",
   "execution_count": null,
   "id": "c7fc0324",
   "metadata": {},
   "outputs": [],
   "source": [
    "# determinant of matrix\n",
    "np.linalg.det(A)"
   ]
  },
  {
   "cell_type": "code",
   "execution_count": null,
   "id": "bd78b598",
   "metadata": {},
   "outputs": [],
   "source": [
    "# inverse of matrix\n",
    "np.linalg.inv(A)"
   ]
  },
  {
   "cell_type": "code",
   "execution_count": null,
   "id": "9aabc807",
   "metadata": {},
   "outputs": [],
   "source": [
    "# matrix exponentiation\n",
    "np.linalg.matrix_power(A, 3)"
   ]
  },
  {
   "cell_type": "code",
   "execution_count": null,
   "id": "4d8c1cef",
   "metadata": {},
   "outputs": [],
   "source": [
    "a = np.array([[1,2,3],\n",
    "             [4,5,6]])\n",
    "\n",
    "b = np.array([[6,5,4],\n",
    "              [3,2,1]])"
   ]
  },
  {
   "cell_type": "code",
   "execution_count": null,
   "id": "6e526439",
   "metadata": {},
   "outputs": [],
   "source": [
    "np.save(\"a.npy\", a)"
   ]
  },
  {
   "cell_type": "code",
   "execution_count": null,
   "id": "c029c3d9",
   "metadata": {},
   "outputs": [],
   "source": [
    "arr = np.load(\"a.npy\")"
   ]
  },
  {
   "cell_type": "code",
   "execution_count": null,
   "id": "c641dfeb",
   "metadata": {},
   "outputs": [],
   "source": [
    "arr"
   ]
  },
  {
   "cell_type": "code",
   "execution_count": null,
   "id": "2fd6f99d",
   "metadata": {},
   "outputs": [],
   "source": [
    "np.savez(\"ab.npz\", x=a, y=b)"
   ]
  },
  {
   "cell_type": "code",
   "execution_count": null,
   "id": "a0e94986",
   "metadata": {},
   "outputs": [],
   "source": [
    "X = np.load(\"ab.npz\")"
   ]
  },
  {
   "cell_type": "code",
   "execution_count": null,
   "id": "404ca6df",
   "metadata": {},
   "outputs": [],
   "source": [
    "X['x']"
   ]
  },
  {
   "cell_type": "code",
   "execution_count": null,
   "id": "97b87855",
   "metadata": {},
   "outputs": [],
   "source": [
    "X['y']"
   ]
  },
  {
   "cell_type": "markdown",
   "id": "963a7153",
   "metadata": {},
   "source": [
    "## matplotlib"
   ]
  },
  {
   "cell_type": "code",
   "execution_count": null,
   "id": "10ef58ce",
   "metadata": {},
   "outputs": [],
   "source": [
    "%matplotlib inline\n",
    "import matplotlib.pyplot as plt"
   ]
  },
  {
   "cell_type": "code",
   "execution_count": null,
   "id": "45ddf16c",
   "metadata": {},
   "outputs": [],
   "source": [
    "x = [1,2,3]\n",
    "y = [2,4,1]"
   ]
  },
  {
   "cell_type": "code",
   "execution_count": null,
   "id": "f9f0bf3e",
   "metadata": {},
   "outputs": [],
   "source": [
    "# Plot points on graph paper!\n",
    "plt.plot(x,y)\n",
    "\n",
    "# Give title to your graph!\n",
    "plt.title('My first graph!')\n",
    "\n",
    "# Specify X and Y axis labels\n",
    "plt.xlabel('x - axis')\n",
    "plt.ylabel('y - axis')\n",
    "\n",
    "# Show the plot\n",
    "plt.show()\n",
    "\n",
    "# Close the plot\n",
    "plt.close()"
   ]
  },
  {
   "cell_type": "code",
   "execution_count": null,
   "id": "67d5d0f0",
   "metadata": {},
   "outputs": [],
   "source": [
    "# line 1 points\n",
    "x1 = [1,2,3]\n",
    "y1 = [2,4,1]\n",
    "\n",
    "# line 2 points\n",
    "x2 = [1,2,3]\n",
    "y2 = [4,1,3]"
   ]
  },
  {
   "cell_type": "code",
   "execution_count": null,
   "id": "e567aebe",
   "metadata": {},
   "outputs": [],
   "source": [
    "# plotting the line 1 points \n",
    "plt.plot(x1, y1, label = \"line 1\")\n",
    "\n",
    "# plotting the line 2 points \n",
    "plt.plot(x2, y2, label = \"line 2\")\n",
    "\n",
    "plt.xlabel('x - axis')\n",
    "plt.ylabel('y - axis')\n",
    "\n",
    "plt.title('Two lines on same graph!')\n",
    "\n",
    "# show labels for different lines in a legend\n",
    "plt.legend()\n",
    "\n",
    "plt.show()\n",
    "\n",
    "plt.close()"
   ]
  },
  {
   "cell_type": "code",
   "execution_count": null,
   "id": "109b7e43",
   "metadata": {},
   "outputs": [],
   "source": [
    "# x-coordinates of left sides of bars \n",
    "left = [1, 2, 3, 4, 5]"
   ]
  },
  {
   "cell_type": "code",
   "execution_count": null,
   "id": "ef9ca87a",
   "metadata": {},
   "outputs": [],
   "source": [
    "plt.style.available"
   ]
  },
  {
   "cell_type": "code",
   "execution_count": null,
   "id": "88bfdc1d",
   "metadata": {},
   "outputs": [],
   "source": [
    "plt.style.use('classic')"
   ]
  },
  {
   "cell_type": "code",
   "execution_count": null,
   "id": "eaff700e",
   "metadata": {},
   "outputs": [],
   "source": [
    "x = [2,2,3,4,5,6]\n",
    "y = [2,4,3,5,2,6]"
   ]
  },
  {
   "cell_type": "code",
   "execution_count": null,
   "id": "6067f0a2",
   "metadata": {},
   "outputs": [],
   "source": [
    "plt.figure(figsize=(6,4))\n",
    "plt.plot(x, y, color='Green', linestyle='dashed', linewidth = 3,\n",
    "         marker='o', markerfacecolor='blue', markersize=4)\n",
    "\n",
    "# setting x and y axis range\n",
    "plt.ylim(1,7)\n",
    "plt.xlim(1,7)\n",
    "\n",
    "plt.xlabel('x - axis')\n",
    "plt.ylabel('y - axis')\n",
    "\n",
    "plt.title('Customized Graph')\n",
    "\n",
    "plt.show()\n",
    "plt.close()\n",
    "plt.savefig('customized_graph.png',bbox_inches='tight')"
   ]
  },
  {
   "cell_type": "code",
   "execution_count": null,
   "id": "763611a0",
   "metadata": {},
   "outputs": [],
   "source": [
    "# heights of bars\n",
    "height = [10, 24, 36, 40, 5]"
   ]
  },
  {
   "cell_type": "code",
   "execution_count": null,
   "id": "11ae5f7f",
   "metadata": {},
   "outputs": [],
   "source": [
    "# labels for bars\n",
    "tick_label = ['one', 'two', 'three', 'four', 'five']"
   ]
  },
  {
   "cell_type": "code",
   "execution_count": null,
   "id": "a3343bcb",
   "metadata": {},
   "outputs": [],
   "source": [
    "# plotting a bar chart\n",
    "plt.bar(left, height, tick_label = tick_label,\n",
    "        width = 0.8, color = ['red', 'blue'])\n",
    "\n",
    "plt.xlabel('x - axis')\n",
    "plt.ylabel('y - axis')\n",
    "\n",
    "plt.title('My bar chart!')\n",
    "\n",
    "plt.show()\n",
    "plt.close()"
   ]
  },
  {
   "cell_type": "code",
   "execution_count": null,
   "id": "c49cf1bd",
   "metadata": {},
   "outputs": [],
   "source": [
    "# x-coordinates of left sides of bars \n",
    "left = [1, 2, 3, 4, 5]"
   ]
  },
  {
   "cell_type": "code",
   "execution_count": null,
   "id": "fa4e63a7",
   "metadata": {},
   "outputs": [],
   "source": [
    "# heights of bars\n",
    "height = [10, 24, 36, 40, 5]"
   ]
  },
  {
   "cell_type": "code",
   "execution_count": null,
   "id": "55e9ccad",
   "metadata": {},
   "outputs": [],
   "source": [
    "# labels for bars\n",
    "tick_label = ['one', 'two', 'three', 'four', 'five']"
   ]
  },
  {
   "cell_type": "code",
   "execution_count": null,
   "id": "172179e5",
   "metadata": {},
   "outputs": [],
   "source": [
    "# plotting a bar chart\n",
    "plt.bar(left, height, tick_label = tick_label,\n",
    "        width = 0.8, color = ['red', 'blue'])\n",
    "\n",
    "plt.xlabel('x - axis')\n",
    "plt.ylabel('y - axis')\n",
    "\n",
    "plt.title('My bar chart!')\n",
    "\n",
    "plt.show()\n",
    "plt.close()"
   ]
  },
  {
   "cell_type": "code",
   "execution_count": null,
   "id": "1a756a27",
   "metadata": {},
   "outputs": [],
   "source": [
    "ages = [2,5,70,40,30,45,50,45,43,40,44,\n",
    "        60,7,13,57,18,90,77,32,21,20,40]"
   ]
  },
  {
   "cell_type": "code",
   "execution_count": null,
   "id": "2067ac9d",
   "metadata": {},
   "outputs": [],
   "source": [
    "# setting the ranges and no. of intervals\n",
    "range = (0, 100)\n",
    "bins = 10"
   ]
  },
  {
   "cell_type": "code",
   "execution_count": null,
   "id": "4d44d518",
   "metadata": {},
   "outputs": [],
   "source": [
    "# plotting a histogram\n",
    "plt.hist(ages, bins, range, color = 'red',\n",
    "        histtype = 'bar', rwidth = 0.8)\n",
    "\n",
    "plt.xlabel('age')\n",
    "plt.ylabel('No. of people')\n",
    "\n",
    "plt.title('My histogram')\n",
    "\n",
    "plt.show()\n",
    "plt.close()"
   ]
  },
  {
   "cell_type": "code",
   "execution_count": null,
   "id": "03656e73",
   "metadata": {},
   "outputs": [],
   "source": [
    "x = [1,2,3,4,5,6,7,8,9,10]\n",
    "y = [2,4,5,7,6,8,9,11,12,12]"
   ]
  },
  {
   "cell_type": "code",
   "execution_count": null,
   "id": "f7e9d537",
   "metadata": {},
   "outputs": [],
   "source": [
    "# plotting points as a scatter plot\n",
    "plt.scatter(x, y, label= \"stars\", color= \"g\", \n",
    "            marker= \"*\", s=30)\n",
    "\n",
    "plt.xlabel('x - axis')\n",
    "plt.ylabel('y- axis')\n",
    "\n",
    "plt.title('My scatter plot!')\n",
    "\n",
    "plt.legend()\n",
    "\n",
    "plt.show()\n",
    "plt.close()"
   ]
  },
  {
   "cell_type": "code",
   "execution_count": null,
   "id": "0d500f27",
   "metadata": {},
   "outputs": [],
   "source": [
    "# defining labels\n",
    "activities = ['eat', 'sleep', 'work', 'play']"
   ]
  },
  {
   "cell_type": "code",
   "execution_count": null,
   "id": "b6102204",
   "metadata": {},
   "outputs": [],
   "source": [
    "# portion covered by each label\n",
    "slices = [3, 7, 8, 6]"
   ]
  },
  {
   "cell_type": "code",
   "execution_count": null,
   "id": "31aa0db3",
   "metadata": {},
   "outputs": [],
   "source": [
    "# color for each label\n",
    "colors = ['r', 'm', 'g', 'b']"
   ]
  },
  {
   "cell_type": "code",
   "execution_count": null,
   "id": "8f187fa0",
   "metadata": {},
   "outputs": [],
   "source": [
    "# plotting the pie chart\n",
    "plt.pie(slices, labels = activities, colors=colors, \n",
    "        startangle=10, shadow = True, explode = (0, 0, 0.1, 0),\n",
    "        radius = 1.2,autopct = '%0.1f%%' )\n",
    "\n",
    "plt.legend()\n",
    "\n",
    "plt.show()\n",
    "plt.close()"
   ]
  },
  {
   "cell_type": "code",
   "execution_count": null,
   "id": "d9835f92",
   "metadata": {},
   "outputs": [],
   "source": [
    "import numpy as np"
   ]
  },
  {
   "cell_type": "code",
   "execution_count": null,
   "id": "dbb3bd6b",
   "metadata": {},
   "outputs": [],
   "source": [
    "x = np.arange(0, 2*(np.pi), 0.1)\n",
    "y = np.sin(x)"
   ]
  },
  {
   "cell_type": "code",
   "execution_count": null,
   "id": "a78c88d9",
   "metadata": {},
   "outputs": [],
   "source": [
    "x"
   ]
  },
  {
   "cell_type": "code",
   "execution_count": null,
   "id": "ddec615f",
   "metadata": {},
   "outputs": [],
   "source": [
    "y"
   ]
  },
  {
   "cell_type": "code",
   "execution_count": null,
   "id": "b9d30e41",
   "metadata": {},
   "outputs": [],
   "source": [
    "plt.plot(x, y)\n",
    "\n",
    "plt.show()\n",
    "plt.close()"
   ]
  },
  {
   "cell_type": "code",
   "execution_count": null,
   "id": "88a537fc",
   "metadata": {},
   "outputs": [],
   "source": [
    "# function to generate coordinates\n",
    "def create_plot(ptype):\n",
    "    # setting the x-axis vaues\n",
    "    x = np.arange(-10, 10, 0.01)\n",
    "     \n",
    "    # setting the y-axis values\n",
    "    if ptype == 'linear':\n",
    "        y = x\n",
    "    elif ptype == 'quadratic':\n",
    "        y = x**2\n",
    "    elif ptype == 'cubic':\n",
    "        y = x**3\n",
    "    elif ptype == 'quartic':\n",
    "        y = x**4\n",
    "             \n",
    "    return(x, y)"
   ]
  },
  {
   "cell_type": "code",
   "execution_count": null,
   "id": "8e7f0549",
   "metadata": {},
   "outputs": [],
   "source": [
    "# create a figure\n",
    "fig = plt.figure()\n",
    "\n",
    "# define subplots and their positions in figure\n",
    "plt1 = fig.add_subplot(221)\n",
    "plt2 = fig.add_subplot(222)\n",
    "plt3 = fig.add_subplot(223)\n",
    "plt4 = fig.add_subplot(224)\n",
    "\n",
    "# plotting points on each subplot\n",
    "x, y = create_plot('linear')\n",
    "plt1.plot(x, y, color ='r')\n",
    "plt1.set_title('$y_1 = x$')\n",
    " \n",
    "x, y = create_plot('quadratic')\n",
    "plt2.plot(x, y, color ='b')\n",
    "plt2.set_title('$y_2 = x^2$')\n",
    " \n",
    "x, y = create_plot('cubic')\n",
    "plt3.plot(x, y, color ='g')\n",
    "plt3.set_title('$y_3 = x^3$')\n",
    " \n",
    "x, y = create_plot('quartic')\n",
    "plt4.plot(x, y, color ='k')\n",
    "plt4.set_title('$y_4 = x^4$')\n",
    "\n",
    "# adjusting space between subplots\n",
    "fig.subplots_adjust(hspace=.5,wspace=0.5)\n",
    "\n",
    "plt.show()\n",
    "plt.close()"
   ]
  },
  {
   "cell_type": "code",
   "execution_count": null,
   "id": "33963a37",
   "metadata": {},
   "outputs": [],
   "source": [
    "# function to generate coordinates\n",
    "def create_plot(ptype):\n",
    "    # setting the x-axis vaues\n",
    "    x = np.arange(0, 5, 0.01)\n",
    "     \n",
    "    # setting y-axis values\n",
    "    if ptype == 'sin':\n",
    "        # a sine wave\n",
    "        y = np.sin(2*np.pi*x)\n",
    "    elif ptype == 'exp':\n",
    "        # negative exponential function\n",
    "        y = np.exp(-x)\n",
    "    elif ptype == 'hybrid':\n",
    "        # a damped sine wave\n",
    "        y = (np.sin(2*np.pi*x))*(np.exp(-x))\n",
    "             \n",
    "    return(x, y)"
   ]
  },
  {
   "cell_type": "code",
   "execution_count": null,
   "id": "c9c6020d",
   "metadata": {},
   "outputs": [],
   "source": [
    "# defining subplots and their positions\n",
    "plt1 = plt.subplot2grid((11,1), (0,0), rowspan = 3, colspan = 1)\n",
    "plt2 = plt.subplot2grid((11,1), (4,0), rowspan = 3, colspan = 1)\n",
    "plt3 = plt.subplot2grid((11,1), (8,0), rowspan = 3, colspan = 1)\n",
    "\n",
    "# plotting points on each subplot\n",
    "x, y = create_plot('sin')\n",
    "plt1.plot(x, y, label = 'sine wave', color ='b')\n",
    "\n",
    "x, y = create_plot('exp')\n",
    "plt2.plot(x, y, label = 'negative exponential', color = 'r')\n",
    "\n",
    "x, y = create_plot('hybrid')\n",
    "plt3.plot(x, y, label = 'damped sine wave', color = 'g')\n",
    "\n",
    "# show legends of each subplot\n",
    "plt1.legend()\n",
    "plt2.legend()\n",
    "plt3.legend()\n",
    "\n",
    "plt.show()"
   ]
  },
  {
   "cell_type": "markdown",
   "id": "2d6ee40d",
   "metadata": {},
   "source": [
    "# Pandas"
   ]
  },
  {
   "cell_type": "code",
   "execution_count": null,
   "id": "9bc41234",
   "metadata": {},
   "outputs": [],
   "source": [
    "import pandas as pd"
   ]
  },
  {
   "cell_type": "code",
   "execution_count": null,
   "id": "16c9622d",
   "metadata": {},
   "outputs": [],
   "source": [
    "import os"
   ]
  },
  {
   "cell_type": "code",
   "execution_count": null,
   "id": "e4e95155",
   "metadata": {},
   "outputs": [],
   "source": [
    "os.getcwd()"
   ]
  },
  {
   "cell_type": "code",
   "execution_count": null,
   "id": "97f16898",
   "metadata": {},
   "outputs": [],
   "source": [
    "os.listdir()"
   ]
  },
  {
   "cell_type": "code",
   "execution_count": null,
   "id": "372e81df",
   "metadata": {},
   "outputs": [],
   "source": [
    "pd.__version__"
   ]
  },
  {
   "cell_type": "code",
   "execution_count": null,
   "id": "ea5d990c",
   "metadata": {},
   "outputs": [],
   "source": [
    "imdb_df=pd.read_csv"
   ]
  },
  {
   "cell_type": "code",
   "execution_count": null,
   "id": "d9fb7924",
   "metadata": {},
   "outputs": [],
   "source": [
    "# Data: Is what kind of file is where my data residing\n",
    "# Path: where is my data residing in my computer.\n",
    "    # reference location\n",
    "    # exact location"
   ]
  },
  {
   "cell_type": "code",
   "execution_count": null,
   "id": "86381df2",
   "metadata": {},
   "outputs": [],
   "source": [
    "pd.read_csv(\"data/imdb_1000.csv\") #--reference location"
   ]
  },
  {
   "cell_type": "code",
   "execution_count": null,
   "id": "dfe8e296",
   "metadata": {},
   "outputs": [],
   "source": [
    "# Windows path\n",
    "pd.read_csv(r\"C:\\Users\\Dixith\\OneDrive\\Desktop\\Top Mentor\\Top Mentor Batch-58\\Day-14\\Day-14\\Python libraries\\data\\imdb_1000.csv\")"
   ]
  },
  {
   "cell_type": "code",
   "execution_count": null,
   "id": "a38e4e07",
   "metadata": {},
   "outputs": [],
   "source": [
    "If you want to read the file you must use forward slash(/)      #exact location in below of data  imdb_1000"
   ]
  },
  {
   "cell_type": "code",
   "execution_count": null,
   "id": "c4e404bd",
   "metadata": {},
   "outputs": [],
   "source": [
    "# Windows path\n",
    "pd.read_csv(\"C:/Users/Dixith/OneDrive/Desktop/Top Mentor/Top Mentor Batch-58/Day-14/Day-14/Python libraries/data/imdb_1000.csv\")"
   ]
  },
  {
   "cell_type": "code",
   "execution_count": null,
   "id": "087259f3",
   "metadata": {},
   "outputs": [],
   "source": [
    "# Windows path\n",
    "pd.read_csv(\"C:\\\\Users\\\\Dixith\\\\OneDrive\\\\Desktop\\\\Top Mentor\\\\Top Mentor Batch-58\\\\Day-14\\\\Day-14\\\\Python libraries\\\\data\\\\imdb_1000.csv\")"
   ]
  },
  {
   "cell_type": "markdown",
   "id": "519b9ef1",
   "metadata": {},
   "source": [
    "## IMDB DATA"
   ]
  },
  {
   "cell_type": "code",
   "execution_count": null,
   "id": "15bf2616",
   "metadata": {},
   "outputs": [],
   "source": [
    "imdb_df=pd.read_csv(\"C:/Users/Dixith/OneDrive/Desktop/Top Mentor/Top Mentor Batch-58/Day-14/Day-14/Python libraries/data/imdb_1000.csv\")"
   ]
  },
  {
   "cell_type": "code",
   "execution_count": null,
   "id": "b59af031",
   "metadata": {},
   "outputs": [],
   "source": [
    "type(imdb_df)"
   ]
  },
  {
   "cell_type": "code",
   "execution_count": null,
   "id": "3f56b8ab",
   "metadata": {},
   "outputs": [],
   "source": [
    "imdb_df.head()"
   ]
  },
  {
   "cell_type": "code",
   "execution_count": null,
   "id": "1e82e706",
   "metadata": {},
   "outputs": [],
   "source": [
    "imdb_df.tail()"
   ]
  },
  {
   "cell_type": "code",
   "execution_count": null,
   "id": "f10c6b41",
   "metadata": {},
   "outputs": [],
   "source": [
    "imdb_df.sample()"
   ]
  },
  {
   "cell_type": "code",
   "execution_count": null,
   "id": "5fd93b0f",
   "metadata": {},
   "outputs": [],
   "source": [
    "imdb_df.columns"
   ]
  },
  {
   "cell_type": "code",
   "execution_count": null,
   "id": "3f13fe38",
   "metadata": {},
   "outputs": [],
   "source": [
    "imdb_df.dtypes"
   ]
  },
  {
   "cell_type": "code",
   "execution_count": null,
   "id": "86a67652",
   "metadata": {},
   "outputs": [],
   "source": [
    "imdb_df.shape"
   ]
  },
  {
   "cell_type": "code",
   "execution_count": null,
   "id": "61a9281d",
   "metadata": {},
   "outputs": [],
   "source": [
    "imdb_df.info()"
   ]
  },
  {
   "cell_type": "markdown",
   "id": "ffa0bafd",
   "metadata": {},
   "source": [
    "# Bikes Data"
   ]
  },
  {
   "cell_type": "code",
   "execution_count": null,
   "id": "7b89f43f",
   "metadata": {},
   "outputs": [],
   "source": [
    "pd.read_csv(\"C:/Users/Dixith/OneDrive/Desktop/Top Mentor/Top Mentor Batch-58/Day-14/Day-14/Python libraries/data/bikes.csv\")"
   ]
  },
  {
   "cell_type": "code",
   "execution_count": null,
   "id": "f155fcd8",
   "metadata": {},
   "outputs": [],
   "source": [
    "bikes_df=pd.read_csv(\"C:/Users/Dixith/OneDrive/Desktop/Top Mentor/Top Mentor Batch-58/Day-14/Day-14/Python libraries/data/bikes.csv\")"
   ]
  },
  {
   "cell_type": "code",
   "execution_count": null,
   "id": "b0caaacc",
   "metadata": {},
   "outputs": [],
   "source": [
    "bikes_df.head()"
   ]
  },
  {
   "cell_type": "code",
   "execution_count": null,
   "id": "5e92a10d",
   "metadata": {},
   "outputs": [],
   "source": [
    "bikes_df.shape"
   ]
  },
  {
   "cell_type": "code",
   "execution_count": null,
   "id": "e6c3a5e6",
   "metadata": {},
   "outputs": [],
   "source": [
    "bikes_df=pd.read_csv(\"C:/Users/Dixith/OneDrive/Desktop/Top Mentor/Top Mentor Batch-58/Day-14/Day-14/Python libraries/data/bikes.csv\", sep=';')"
   ]
  },
  {
   "cell_type": "code",
   "execution_count": null,
   "id": "3ae23b91",
   "metadata": {},
   "outputs": [],
   "source": [
    "bikes_df.head()"
   ]
  },
  {
   "cell_type": "code",
   "execution_count": null,
   "id": "2595b50f",
   "metadata": {},
   "outputs": [],
   "source": [
    "bikes_df.shape"
   ]
  },
  {
   "cell_type": "code",
   "execution_count": null,
   "id": "f7330610",
   "metadata": {},
   "outputs": [],
   "source": [
    "bikes_df = pd.read_csv(\"C:/Users/Dixith/OneDrive/Desktop/Top Mentor/Top Mentor Batch-58/Day-14/Day-14/Python libraries/data/bikes.csv\", sep=';',parse_dates=['Date'], dayfirst=True, index_col='Date')"
   ]
  },
  {
   "cell_type": "code",
   "execution_count": null,
   "id": "09c8847e",
   "metadata": {},
   "outputs": [],
   "source": [
    "bikes_df.head()"
   ]
  },
  {
   "cell_type": "code",
   "execution_count": null,
   "id": "34a11e36",
   "metadata": {},
   "outputs": [],
   "source": [
    "bikes_df.columns"
   ]
  },
  {
   "cell_type": "code",
   "execution_count": null,
   "id": "d37bbcf3",
   "metadata": {},
   "outputs": [],
   "source": [
    "bikes_df.dtypes"
   ]
  },
  {
   "cell_type": "code",
   "execution_count": null,
   "id": "39f125e8",
   "metadata": {},
   "outputs": [],
   "source": [
    "bikes_df.info()"
   ]
  },
  {
   "cell_type": "markdown",
   "id": "6ff45151",
   "metadata": {},
   "source": [
    "#  summary\n",
    "### describe() to summarize your data"
   ]
  },
  {
   "cell_type": "code",
   "execution_count": null,
   "id": "65a3cb4e",
   "metadata": {},
   "outputs": [],
   "source": [
    "imdb_df"
   ]
  },
  {
   "cell_type": "code",
   "execution_count": null,
   "id": "57a323cd",
   "metadata": {},
   "outputs": [],
   "source": [
    "import numpy as np"
   ]
  },
  {
   "cell_type": "code",
   "execution_count": null,
   "id": "409df902",
   "metadata": {},
   "outputs": [],
   "source": [
    "imdb_df.dtypes"
   ]
  },
  {
   "cell_type": "code",
   "execution_count": null,
   "id": "7f823929",
   "metadata": {},
   "outputs": [],
   "source": [
    "imdb_df.describe(include=np.number)  #default it summarizes numerical data"
   ]
  },
  {
   "cell_type": "code",
   "execution_count": null,
   "id": "02d89661",
   "metadata": {},
   "outputs": [],
   "source": [
    "imdb_df.describe(include=np.object)"
   ]
  },
  {
   "cell_type": "code",
   "execution_count": null,
   "id": "38a47c11",
   "metadata": {},
   "outputs": [],
   "source": [
    "imdb_df.describe(include=[np.object,np.number])"
   ]
  },
  {
   "cell_type": "markdown",
   "id": "d5c68294",
   "metadata": {},
   "source": [
    "# Creating data frame using list/tuples"
   ]
  },
  {
   "cell_type": "code",
   "execution_count": null,
   "id": "998ebb2d",
   "metadata": {},
   "outputs": [],
   "source": [
    "# The inital set of baby names and bith rates\n",
    "names=['Bob','Jessica','marry','john','Mel']\n",
    "births=[968,155,77,578,973]"
   ]
  },
  {
   "cell_type": "code",
   "execution_count": null,
   "id": "b47062ca",
   "metadata": {},
   "outputs": [],
   "source": [
    "names,births"
   ]
  },
  {
   "cell_type": "code",
   "execution_count": null,
   "id": "c31ba9fb",
   "metadata": {},
   "outputs": [],
   "source": [
    "list(zip(names,births))"
   ]
  },
  {
   "cell_type": "code",
   "execution_count": null,
   "id": "d71f6264",
   "metadata": {},
   "outputs": [],
   "source": [
    "babydataset=list(zip(names,births))"
   ]
  },
  {
   "cell_type": "code",
   "execution_count": null,
   "id": "7d374c9b",
   "metadata": {},
   "outputs": [],
   "source": [
    "df = pd.DataFrame(data=babydataset,columns=['Names','Births']) #in dataframe \"capital D FOR Data and F for Frame\""
   ]
  },
  {
   "cell_type": "code",
   "execution_count": null,
   "id": "5e933e8a",
   "metadata": {},
   "outputs": [],
   "source": [
    "df.head()"
   ]
  },
  {
   "cell_type": "code",
   "execution_count": null,
   "id": "4a2684dc",
   "metadata": {},
   "outputs": [],
   "source": [
    "# saving dataframe as csv file\n",
    "df.to_csv('C:/Users/Dixith/OneDrive/Desktop/Top Mentor/Top Mentor Batch-58/Day 11/Day 11/births.csv',index=False)"
   ]
  },
  {
   "cell_type": "code",
   "execution_count": null,
   "id": "38a53573",
   "metadata": {},
   "outputs": [],
   "source": [
    "births_df=pd.read_csv(\"C:/Users/Dixith/OneDrive/Desktop/Top Mentor/Top Mentor Batch-58/Day 11/Day 11/births.csv\")"
   ]
  },
  {
   "cell_type": "code",
   "execution_count": null,
   "id": "7f41cf85",
   "metadata": {},
   "outputs": [],
   "source": [
    "births_df"
   ]
  },
  {
   "cell_type": "markdown",
   "id": "2b72e7b2",
   "metadata": {},
   "source": [
    "# Creating data frame using dictionaries"
   ]
  },
  {
   "cell_type": "code",
   "execution_count": null,
   "id": "6540790a",
   "metadata": {},
   "outputs": [],
   "source": [
    "# The inital set of baby names and bith rates\n",
    "names = ['Bob','Jessica','Mary','John','Mel']\n",
    "births = [968, 155, 77, 578, 973]"
   ]
  },
  {
   "cell_type": "code",
   "execution_count": null,
   "id": "bbc19ec4",
   "metadata": {},
   "outputs": [],
   "source": [
    "data_dict={\"names\":names,\"births\":births}"
   ]
  },
  {
   "cell_type": "code",
   "execution_count": null,
   "id": "6a6449fd",
   "metadata": {},
   "outputs": [],
   "source": [
    "type(data_dict)"
   ]
  },
  {
   "cell_type": "code",
   "execution_count": null,
   "id": "065c45d4",
   "metadata": {},
   "outputs": [],
   "source": [
    "data_dict.keys(),data_dict.values()"
   ]
  },
  {
   "cell_type": "code",
   "execution_count": null,
   "id": "f2d44eb5",
   "metadata": {},
   "outputs": [],
   "source": [
    "pd.DataFrame.from_dict(data_dict)"
   ]
  },
  {
   "cell_type": "markdown",
   "id": "0dad8fd0",
   "metadata": {},
   "source": [
    "## Selecting columns\n",
    "\n",
    "When you read a CSV, you get a kind of object called a DataFrame, which is made up of rows and columns. You get columns out of a DataFrame the same way you get elements out of a dictionary."
   ]
  },
  {
   "cell_type": "code",
   "execution_count": null,
   "id": "21d2a2bc",
   "metadata": {},
   "outputs": [],
   "source": [
    "imdb_df.columns"
   ]
  },
  {
   "cell_type": "code",
   "execution_count": null,
   "id": "78956306",
   "metadata": {},
   "outputs": [],
   "source": [
    "imdb_df['title']"
   ]
  },
  {
   "cell_type": "code",
   "execution_count": null,
   "id": "bfd5bf84",
   "metadata": {},
   "outputs": [],
   "source": [
    "type(imdb_df['title'])"
   ]
  },
  {
   "cell_type": "code",
   "execution_count": null,
   "id": "b5bd1f22",
   "metadata": {},
   "outputs": [],
   "source": [
    "bikes_df.columns"
   ]
  },
  {
   "cell_type": "code",
   "execution_count": null,
   "id": "01cc6387",
   "metadata": {},
   "outputs": [],
   "source": [
    "bikes_df['Berri1']"
   ]
  },
  {
   "cell_type": "code",
   "execution_count": null,
   "id": "c6b66687",
   "metadata": {},
   "outputs": [],
   "source": [
    "bikes_df.head()"
   ]
  },
  {
   "cell_type": "code",
   "execution_count": null,
   "id": "6ab87d40",
   "metadata": {},
   "outputs": [],
   "source": [
    "imdb_df.head()"
   ]
  },
  {
   "cell_type": "code",
   "execution_count": null,
   "id": "291aaebf",
   "metadata": {},
   "outputs": [],
   "source": [
    "# selecting multiple columns at once\n",
    "imdb_df[['star_rating', 'genre']]"
   ]
  },
  {
   "cell_type": "raw",
   "id": "ac590fdf",
   "metadata": {},
   "source": [
    "## Understanding columns\n",
    "\n",
    "On the inside, the type of a column is ``pd.Series`` and pandas Series are internally numpy arrays. If you add ``.values`` to the end of any Series, you'll get its internal **numpy array**."
   ]
  },
  {
   "cell_type": "code",
   "execution_count": null,
   "id": "a10392b9",
   "metadata": {},
   "outputs": [],
   "source": [
    "durations=imdb_df['duration']"
   ]
  },
  {
   "cell_type": "code",
   "execution_count": null,
   "id": "0b0c50dd",
   "metadata": {},
   "outputs": [],
   "source": [
    "durations.index"
   ]
  },
  {
   "cell_type": "code",
   "execution_count": null,
   "id": "21af8bb8",
   "metadata": {},
   "outputs": [],
   "source": [
    "durations.values"
   ]
  },
  {
   "cell_type": "code",
   "execution_count": null,
   "id": "43ae40b0",
   "metadata": {},
   "outputs": [],
   "source": [
    "type(durations)"
   ]
  },
  {
   "cell_type": "code",
   "execution_count": null,
   "id": "eee9f350",
   "metadata": {},
   "outputs": [],
   "source": [
    "durations.values"
   ]
  },
  {
   "cell_type": "code",
   "execution_count": null,
   "id": "82107b23",
   "metadata": {},
   "outputs": [],
   "source": [
    "type(durations.values)"
   ]
  },
  {
   "cell_type": "code",
   "execution_count": null,
   "id": "0d2672eb",
   "metadata": {},
   "outputs": [],
   "source": [
    "duration_arr=durations.values"
   ]
  },
  {
   "cell_type": "code",
   "execution_count": null,
   "id": "574caf5d",
   "metadata": {},
   "outputs": [],
   "source": [
    "duration_arr[:5]"
   ]
  },
  {
   "cell_type": "markdown",
   "id": "b2cda8d0",
   "metadata": {},
   "source": [
    "## Applying functions to columns"
   ]
  },
  {
   "cell_type": "code",
   "execution_count": null,
   "id": "b3b73f18",
   "metadata": {},
   "outputs": [],
   "source": [
    "capitalizer=lambda x: x.upper()"
   ]
  },
  {
   "cell_type": "code",
   "execution_count": null,
   "id": "f52d7db2",
   "metadata": {},
   "outputs": [],
   "source": [
    "imdb_df['title'].apply(capitalizer)"
   ]
  },
  {
   "cell_type": "markdown",
   "id": "e68cd136",
   "metadata": {},
   "source": [
    "## Plotting a column\n",
    "\n",
    "Use ``.plot()`` function!"
   ]
  },
  {
   "cell_type": "code",
   "execution_count": null,
   "id": "09f3033a",
   "metadata": {},
   "outputs": [],
   "source": [
    "%matplotlib inline"
   ]
  },
  {
   "cell_type": "code",
   "execution_count": null,
   "id": "1fdaf444",
   "metadata": {},
   "outputs": [],
   "source": [
    "bikes_df.head()"
   ]
  },
  {
   "cell_type": "code",
   "execution_count": null,
   "id": "b6f9a0a2",
   "metadata": {},
   "outputs": [],
   "source": [
    "bikes_df['Berri1'].plot()"
   ]
  },
  {
   "cell_type": "code",
   "execution_count": null,
   "id": "115162e5",
   "metadata": {},
   "outputs": [],
   "source": [
    "import matplotlib.pyplot as plt"
   ]
  },
  {
   "cell_type": "code",
   "execution_count": null,
   "id": "3649d336",
   "metadata": {},
   "outputs": [],
   "source": [
    "x=bikes_df['Berri1'].index\n",
    "y=bikes_df['Berri1'].values\n",
    "plt.plot(x,y)"
   ]
  },
  {
   "cell_type": "code",
   "execution_count": null,
   "id": "df18105b",
   "metadata": {},
   "outputs": [],
   "source": [
    "bikes_df.plot(figsize=(15,10))"
   ]
  },
  {
   "cell_type": "markdown",
   "id": "2ae35b4f",
   "metadata": {},
   "source": [
    "## Index\n",
    "\n",
    "### DATAFRAME = COLUMNS + INDEX + ND DATA\n",
    "\n",
    "### SERIES = INDEX + 1-D DATA\n",
    "\n",
    "**Index** or (**row labels**) is one of the fundamental data structure of pandas. It can be thought of as an **immutable array** and an **ordered set**.\n",
    "\n",
    "> Every row is uniquely identified by its index value."
   ]
  },
  {
   "cell_type": "code",
   "execution_count": null,
   "id": "14ca7ba8",
   "metadata": {},
   "outputs": [],
   "source": [
    "imdb_df"
   ]
  },
  {
   "cell_type": "code",
   "execution_count": null,
   "id": "54f3ebc9",
   "metadata": {},
   "outputs": [],
   "source": [
    "# name location -- use .loc method\n",
    "# index location -- use .iloc method"
   ]
  },
  {
   "cell_type": "code",
   "execution_count": null,
   "id": "382d4538",
   "metadata": {},
   "outputs": [],
   "source": [
    "imdb_df.index"
   ]
  },
  {
   "cell_type": "code",
   "execution_count": null,
   "id": "f70f6f21",
   "metadata": {},
   "outputs": [],
   "source": [
    "imdb_df.values"
   ]
  },
  {
   "cell_type": "code",
   "execution_count": null,
   "id": "d27c3fe0",
   "metadata": {},
   "outputs": [],
   "source": [
    "imdb_df.loc[5]"
   ]
  },
  {
   "cell_type": "code",
   "execution_count": null,
   "id": "44f77e90",
   "metadata": {},
   "outputs": [],
   "source": [
    "imdb_df.iloc[5]"
   ]
  },
  {
   "cell_type": "code",
   "execution_count": null,
   "id": "498abe1f",
   "metadata": {},
   "outputs": [],
   "source": [
    "bikes_df"
   ]
  },
  {
   "cell_type": "code",
   "execution_count": null,
   "id": "804e19fc",
   "metadata": {},
   "outputs": [],
   "source": [
    "bikes_df.index"
   ]
  },
  {
   "cell_type": "code",
   "execution_count": null,
   "id": "183cc2e5",
   "metadata": {},
   "outputs": [],
   "source": [
    "list(bikes_df.columns)[2:8]"
   ]
  },
  {
   "cell_type": "code",
   "execution_count": null,
   "id": "5da93105",
   "metadata": {},
   "outputs": [],
   "source": [
    "bikes_df.index"
   ]
  },
  {
   "cell_type": "markdown",
   "id": "afdc611c",
   "metadata": {},
   "source": [
    "#### To get row by name location:\n",
    "\n",
    "Use ``.loc[]`` for purely name-location based indexing for selection by position."
   ]
  },
  {
   "cell_type": "code",
   "execution_count": null,
   "id": "3b6f6f38",
   "metadata": {},
   "outputs": [],
   "source": [
    "# get row for date 2012-01-01\n",
    "bikes_df.loc['2012-01-01']"
   ]
  },
  {
   "cell_type": "markdown",
   "id": "90279352",
   "metadata": {},
   "source": [
    "#### To get row by integer index:\n",
    "\n",
    "Use ``.iloc[]`` for purely integer-location based indexing for selection by position."
   ]
  },
  {
   "cell_type": "code",
   "execution_count": null,
   "id": "62528c71",
   "metadata": {},
   "outputs": [],
   "source": [
    "bikes_df.iloc[0]"
   ]
  },
  {
   "cell_type": "code",
   "execution_count": null,
   "id": "74970f20",
   "metadata": {},
   "outputs": [],
   "source": [
    "# fetch first 5 rows of dataframe\n",
    "bikes_df[:5]"
   ]
  },
  {
   "cell_type": "code",
   "execution_count": null,
   "id": "58cb7b96",
   "metadata": {},
   "outputs": [],
   "source": [
    "# fetch first 5 rows of a specific column\n",
    "bikes_df['Berri1'][:5]"
   ]
  },
  {
   "cell_type": "markdown",
   "id": "dd275f88",
   "metadata": {},
   "source": [
    "### Slicing using .iloc and loc method"
   ]
  },
  {
   "cell_type": "code",
   "execution_count": null,
   "id": "41aa7895",
   "metadata": {},
   "outputs": [],
   "source": [
    "imdb_df"
   ]
  },
  {
   "cell_type": "code",
   "execution_count": null,
   "id": "5695342e",
   "metadata": {},
   "outputs": [],
   "source": [
    "# imdb_df.loc[row,column]\n",
    "# imdb_df.loc[start_row:end_row:step_size , start_column:end_column:step]\n",
    "\n",
    "imdb_df.loc[0:5:1,'star_rating':'duration':2]"
   ]
  },
  {
   "cell_type": "code",
   "execution_count": null,
   "id": "364de2b5",
   "metadata": {},
   "outputs": [],
   "source": [
    "# imdb_df.iloc[row,column]\n",
    "# imdb_df.iloc[start_row:end_row:step_size , start_column:end_column:step]\n",
    "\n",
    "imdb_df.iloc[0:5:1, 0:5:2]"
   ]
  },
  {
   "cell_type": "code",
   "execution_count": null,
   "id": "5053b671",
   "metadata": {},
   "outputs": [],
   "source": [
    "bikes_df"
   ]
  },
  {
   "cell_type": "code",
   "execution_count": null,
   "id": "323bf218",
   "metadata": {},
   "outputs": [],
   "source": [
    "'2012-01-05 , 2012-01-10' and 'Berri1' ,'PierDup'"
   ]
  },
  {
   "cell_type": "code",
   "execution_count": null,
   "id": "7debbe11",
   "metadata": {},
   "outputs": [],
   "source": [
    "import datetime"
   ]
  },
  {
   "cell_type": "code",
   "execution_count": null,
   "id": "5d58477b",
   "metadata": {},
   "outputs": [],
   "source": [
    "list(bikes_df.index).index(datetime.datetime(2012,12,27))"
   ]
  },
  {
   "cell_type": "code",
   "execution_count": null,
   "id": "c3524afe",
   "metadata": {},
   "outputs": [],
   "source": [
    "bikes_df.loc[ '2012-01-05': '2012-01-10','Berri1' :'PierDup']"
   ]
  },
  {
   "cell_type": "code",
   "execution_count": null,
   "id": "72fb4616",
   "metadata": {},
   "outputs": [],
   "source": [
    "bikes_df.iloc[ 4:10:1 , 2:8:1]"
   ]
  },
  {
   "cell_type": "markdown",
   "id": "97f8140f",
   "metadata": {},
   "source": [
    "## Value counts\n",
    "\n",
    "Get count of unique values in a particular column/Series."
   ]
  },
  {
   "cell_type": "code",
   "execution_count": null,
   "id": "619ad95a",
   "metadata": {},
   "outputs": [],
   "source": [
    "imdb_df['genre'].value_counts()"
   ]
  },
  {
   "cell_type": "code",
   "execution_count": null,
   "id": "4ff67e10",
   "metadata": {},
   "outputs": [],
   "source": [
    "# plotting value counts as a bar chart\n",
    "imdb_df['genre'].value_counts().plot(kind='bar')"
   ]
  },
  {
   "cell_type": "markdown",
   "id": "9189c2f2",
   "metadata": {},
   "source": [
    "# Selecting rows where column has a particular value    "
   ]
  },
  {
   "cell_type": "code",
   "execution_count": null,
   "id": "59dae13e",
   "metadata": {},
   "outputs": [],
   "source": [
    "imdb_df['genre'] == 'Adventure'"
   ]
  },
  {
   "cell_type": "code",
   "execution_count": null,
   "id": "fd96edc5",
   "metadata": {},
   "outputs": [],
   "source": [
    "# select only those movies where genre is adventure\n",
    "adventure_movies = imdb_df[imdb_df['genre'] == 'Adventure']"
   ]
  },
  {
   "cell_type": "code",
   "execution_count": null,
   "id": "9d2ad9d4",
   "metadata": {},
   "outputs": [],
   "source": [
    "adventure_movies.head()"
   ]
  },
  {
   "cell_type": "code",
   "execution_count": null,
   "id": "ef376c27",
   "metadata": {},
   "outputs": [],
   "source": [
    "good_adventure_movies = imdb_df[(imdb_df['genre'] == 'Adventure') & (imdb_df['star_rating'] > 8.4)]"
   ]
  },
  {
   "cell_type": "code",
   "execution_count": null,
   "id": "702b08f6",
   "metadata": {},
   "outputs": [],
   "source": [
    "good_adventure_movies"
   ]
  },
  {
   "cell_type": "code",
   "execution_count": null,
   "id": "a8164535",
   "metadata": {},
   "outputs": [],
   "source": [
    "# organised way\n",
    "is_adventure = imdb_df['genre'] == 'Adventure'\n",
    "has_high_rating = imdb_df['star_rating'] > 8.4\n",
    "good_adventure_movies = imdb_df[is_adventure & has_high_rating]\n",
    "\n",
    "# Just see title and duration of good adventure movies\n",
    "good_adventure_movies[['title', 'duration']]"
   ]
  },
  {
   "cell_type": "code",
   "execution_count": null,
   "id": "0a8d3feb",
   "metadata": {},
   "outputs": [],
   "source": [
    "# which genre has highest number of movies with star rating above 8?\n",
    "has_above_8_rating = imdb_df['star_rating'] >= 8.0\n",
    "good_movies = imdb_df[has_above_8_rating]\n",
    "good_movies_genre_count = good_movies['genre'].value_counts()"
   ]
  },
  {
   "cell_type": "code",
   "execution_count": null,
   "id": "0a3a11be",
   "metadata": {},
   "outputs": [],
   "source": [
    "good_movies_genre_count"
   ]
  },
  {
   "cell_type": "code",
   "execution_count": null,
   "id": "a4a194eb",
   "metadata": {},
   "outputs": [],
   "source": [
    "good_movies_genre_count.idxmax()"
   ]
  },
  {
   "cell_type": "markdown",
   "id": "238345db",
   "metadata": {},
   "source": [
    "## Adding a new column to DataFrame"
   ]
  },
  {
   "cell_type": "code",
   "execution_count": null,
   "id": "24d74782",
   "metadata": {},
   "outputs": [],
   "source": [
    "weekdays = bikes_df.index.weekday"
   ]
  },
  {
   "cell_type": "code",
   "execution_count": null,
   "id": "e57df2c9",
   "metadata": {},
   "outputs": [],
   "source": [
    "weekdays"
   ]
  },
  {
   "cell_type": "code",
   "execution_count": null,
   "id": "93f4b2be",
   "metadata": {},
   "outputs": [],
   "source": [
    "bikes_df['weekday'] = weekdays"
   ]
  },
  {
   "cell_type": "code",
   "execution_count": null,
   "id": "b77a0eba",
   "metadata": {},
   "outputs": [],
   "source": [
    "bikes_df"
   ]
  },
  {
   "cell_type": "code",
   "execution_count": null,
   "id": "8ef46e8b",
   "metadata": {},
   "outputs": [],
   "source": [
    "## Deleting an existing column from DataFrame"
   ]
  }
 ],
 "metadata": {
  "kernelspec": {
   "display_name": "Python 3 (ipykernel)",
   "language": "python",
   "name": "python3"
  },
  "language_info": {
   "codemirror_mode": {
    "name": "ipython",
    "version": 3
   },
   "file_extension": ".py",
   "mimetype": "text/x-python",
   "name": "python",
   "nbconvert_exporter": "python",
   "pygments_lexer": "ipython3",
   "version": "3.9.7"
  }
 },
 "nbformat": 4,
 "nbformat_minor": 5
}
